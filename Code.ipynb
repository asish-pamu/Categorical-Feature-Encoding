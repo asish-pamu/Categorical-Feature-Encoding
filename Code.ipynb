{
  "nbformat": 4,
  "nbformat_minor": 0,
  "metadata": {
    "kernelspec": {
      "display_name": "Python 3",
      "language": "python",
      "name": "python3"
    },
    "language_info": {
      "codemirror_mode": {
        "name": "ipython",
        "version": 3
      },
      "file_extension": ".py",
      "mimetype": "text/x-python",
      "name": "python",
      "nbconvert_exporter": "python",
      "pygments_lexer": "ipython3",
      "version": "3.7.1"
    },
    "colab": {
      "name": "Copy of Kag (2).ipynb",
      "provenance": [],
      "collapsed_sections": []
    },
    "accelerator": "TPU"
  },
  "cells": [
    {
      "cell_type": "markdown",
      "metadata": {
        "id": "AlYrDZtsucan",
        "colab_type": "text"
      },
      "source": [
        "**Loading Required Libraries**"
      ]
    },
    {
      "cell_type": "code",
      "metadata": {
        "id": "ZDKGwZwCfoAw",
        "colab_type": "code",
        "outputId": "5d2b2695-21ea-4cf0-ad74-f4a1324535bb",
        "colab": {
          "base_uri": "https://localhost:8080/",
          "height": 258
        }
      },
      "source": [
        "import numpy as np\n",
        "import pandas as pd\n",
        "import matplotlib as mpl\n",
        "import matplotlib.pyplot as plt\n",
        "import seaborn as sns\n",
        "from sklearn.impute import SimpleImputer\n",
        "from sklearn.model_selection import train_test_split\n",
        "from xgboost import XGBClassifier\n",
        "from sklearn import metrics\n",
        "\n",
        "!pip install category_encoders\n",
        "import category_encoders as ce\n",
        "\n",
        "from sklearn.preprocessing import LabelEncoder\n",
        "from sklearn.pipeline import Pipeline\n",
        "\n",
        "\n",
        "\n",
        "# Plotting options\n",
        "mpl.style.use('ggplot')\n",
        "sns.set(style='whitegrid')"
      ],
      "execution_count": 1,
      "outputs": [
        {
          "output_type": "stream",
          "text": [
            "/usr/local/lib/python3.6/dist-packages/statsmodels/tools/_testing.py:19: FutureWarning: pandas.util.testing is deprecated. Use the functions in the public API at pandas.testing instead.\n",
            "  import pandas.util.testing as tm\n"
          ],
          "name": "stderr"
        },
        {
          "output_type": "stream",
          "text": [
            "Requirement already satisfied: category_encoders in /usr/local/lib/python3.6/dist-packages (2.2.2)\n",
            "Requirement already satisfied: scikit-learn>=0.20.0 in /usr/local/lib/python3.6/dist-packages (from category_encoders) (0.22.2.post1)\n",
            "Requirement already satisfied: numpy>=1.14.0 in /usr/local/lib/python3.6/dist-packages (from category_encoders) (1.18.3)\n",
            "Requirement already satisfied: patsy>=0.5.1 in /usr/local/lib/python3.6/dist-packages (from category_encoders) (0.5.1)\n",
            "Requirement already satisfied: statsmodels>=0.9.0 in /usr/local/lib/python3.6/dist-packages (from category_encoders) (0.10.2)\n",
            "Requirement already satisfied: scipy>=1.0.0 in /usr/local/lib/python3.6/dist-packages (from category_encoders) (1.4.1)\n",
            "Requirement already satisfied: pandas>=0.21.1 in /usr/local/lib/python3.6/dist-packages (from category_encoders) (1.0.3)\n",
            "Requirement already satisfied: joblib>=0.11 in /usr/local/lib/python3.6/dist-packages (from scikit-learn>=0.20.0->category_encoders) (0.14.1)\n",
            "Requirement already satisfied: six in /usr/local/lib/python3.6/dist-packages (from patsy>=0.5.1->category_encoders) (1.12.0)\n",
            "Requirement already satisfied: pytz>=2017.2 in /usr/local/lib/python3.6/dist-packages (from pandas>=0.21.1->category_encoders) (2018.9)\n",
            "Requirement already satisfied: python-dateutil>=2.6.1 in /usr/local/lib/python3.6/dist-packages (from pandas>=0.21.1->category_encoders) (2.8.1)\n"
          ],
          "name": "stdout"
        }
      ]
    },
    {
      "cell_type": "markdown",
      "metadata": {
        "id": "zlRr2H80ukvi",
        "colab_type": "text"
      },
      "source": [
        "**Mount Google Drive**"
      ]
    },
    {
      "cell_type": "code",
      "metadata": {
        "id": "EFZKaezrgkor",
        "colab_type": "code",
        "outputId": "50ad255a-a5d9-456e-a046-2dec454fcc82",
        "colab": {
          "base_uri": "https://localhost:8080/",
          "height": 34
        }
      },
      "source": [
        "from google.colab import drive\n",
        "drive.mount('/content/gdrive')"
      ],
      "execution_count": 2,
      "outputs": [
        {
          "output_type": "stream",
          "text": [
            "Drive already mounted at /content/gdrive; to attempt to forcibly remount, call drive.mount(\"/content/gdrive\", force_remount=True).\n"
          ],
          "name": "stdout"
        }
      ]
    },
    {
      "cell_type": "markdown",
      "metadata": {
        "id": "0XAPa5HYuxDp",
        "colab_type": "text"
      },
      "source": [
        "**Reading Input Data**"
      ]
    },
    {
      "cell_type": "code",
      "metadata": {
        "id": "crJV8VNUfoAz",
        "colab_type": "code",
        "colab": {}
      },
      "source": [
        "# Reading data into dataframe using pandas \n",
        "df_train= pd.read_csv('/content/gdrive/My Drive/Kaggle/train.csv')\n",
        "df_test=pd.read_csv(r'/content/gdrive/My Drive/Kaggle/test.csv')"
      ],
      "execution_count": 0,
      "outputs": []
    },
    {
      "cell_type": "markdown",
      "metadata": {
        "id": "LDaVH0zr-IgM",
        "colab_type": "text"
      },
      "source": [
        "**Exploratory Data Analysis**\n"
      ]
    },
    {
      "cell_type": "code",
      "metadata": {
        "id": "DpIkqgBO0b9l",
        "colab_type": "code",
        "colab": {
          "base_uri": "https://localhost:8080/",
          "height": 394
        },
        "outputId": "a09b42c2-6011-4c72-9b98-259addfbff1c"
      },
      "source": [
        "#Distribution of Target variable \n",
        "plt.figure(figsize=(6,6))\n",
        "ax = sns.countplot(df_train.target)\n",
        "\n",
        "height = sum([p.get_height() for p in ax.patches])\n",
        "for p in ax.patches:\n",
        "        ax.annotate(f'{100*p.get_height()/height:.2f} %', (p.get_x()+0.3, p.get_height()+5000),animated=True)"
      ],
      "execution_count": 4,
      "outputs": [
        {
          "output_type": "display_data",
          "data": {
            "image/png": "[encoded data removed]",
            "text/plain": [
              "<Figure size 432x432 with 1 Axes>"
            ]
          },
          "metadata": {
            "tags": [],
            "needs_background": "light"
          }
        }
      ]
    },
    {
      "cell_type": "code",
      "metadata": {
        "id": "q4J58X7VzxKq",
        "colab_type": "code",
        "colab": {
          "base_uri": "https://localhost:8080/",
          "height": 453
        },
        "outputId": "7e77e32e-c79c-442a-920d-1068a0c2d0c8"
      },
      "source": [
        "#Looking at correlations for numerical variables\n",
        "plt.figure(figsize=(10,7))\n",
        "num_cols = df_train.select_dtypes(exclude=['object']).columns\n",
        "corr = df_train[num_cols].corr()\n",
        "sns.heatmap(corr, \n",
        "            xticklabels=corr.columns.values,\n",
        "            yticklabels=corr.columns.values)"
      ],
      "execution_count": 5,
      "outputs": [
        {
          "output_type": "execute_result",
          "data": {
            "text/plain": [
              "<matplotlib.axes._subplots.AxesSubplot at 0x7f08499cef28>"
            ]
          },
          "metadata": {
            "tags": []
          },
          "execution_count": 5
        },
        {
          "output_type": "display_data",
          "data": {
            "image/png": "[encoded data removed]",
            "text/plain": [
              "<Figure size 720x504 with 2 Axes>"
            ]
          },
          "metadata": {
            "tags": [],
            "needs_background": "light"
          }
        }
      ]
    },
    {
      "cell_type": "code",
      "metadata": {
        "id": "e_oYX3Uh-SGR",
        "colab_type": "code",
        "outputId": "593d8579-7f73-4e9c-88d0-76bce3b8e73a",
        "colab": {
          "base_uri": "https://localhost:8080/",
          "height": 375
        }
      },
      "source": [
        "#Looking at Distribution of binary features on train data\n",
        "fig, ax = plt.subplots(1,5, figsize=(30,8))\n",
        "for i in range(5): \n",
        "    sns.countplot(f'bin_{i}', data= df_train, ax=ax[i])\n",
        "    ax[i].set_ylim([0, 600000])\n",
        "    ax[i].set_title(f'bin_{i}', fontsize=15)\n",
        "fig.suptitle(\"Binary Feature Distribution (Train Data)\", fontsize=20)\n",
        "plt.show()"
      ],
      "execution_count": 6,
      "outputs": [
        {
          "output_type": "display_data",
          "data": {
            "image/png": "[encoded data removed]",
            "text/plain": [
              "<Figure size 2160x576 with 5 Axes>"
            ]
          },
          "metadata": {
            "tags": [],
            "needs_background": "light"
          }
        }
      ]
    },
    {
      "cell_type": "code",
      "metadata": {
        "id": "E8ITCGZzAnBV",
        "colab_type": "code",
        "outputId": "07920265-568d-481d-bbc5-b38614561dbc",
        "colab": {
          "base_uri": "https://localhost:8080/",
          "height": 375
        }
      },
      "source": [
        "#Looking at Distribution of binary features on test data\n",
        "fig, ax = plt.subplots(1,5, figsize=(30,8))\n",
        "for i in range(5): \n",
        "    sns.countplot(f'bin_{i}', data= df_test, ax=ax[i])\n",
        "    ax[i].set_ylim([0, 600000])\n",
        "    ax[i].set_title(f'bin_{i}', fontsize=15)\n",
        "fig.suptitle(\"Binary Feature Distribution (Test Data)\", fontsize=20)\n",
        "plt.show()"
      ],
      "execution_count": 7,
      "outputs": [
        {
          "output_type": "display_data",
          "data": {
            "image/png": "[encoded data removed]",
            "text/plain": [
              "<Figure size 2160x576 with 5 Axes>"
            ]
          },
          "metadata": {
            "tags": [],
            "needs_background": "light"
          }
        }
      ]
    },
    {
      "cell_type": "code",
      "metadata": {
        "id": "5uOs9l07BE2W",
        "colab_type": "code",
        "outputId": "008ba9aa-4ff5-4be5-fd06-0722c5c0f0e8",
        "colab": {
          "base_uri": "https://localhost:8080/",
          "height": 375
        }
      },
      "source": [
        "#Looking at Distribution of binary features on train data\n",
        "fig, ax = plt.subplots(1,5, figsize=(30, 8))\n",
        "for i in range(5): \n",
        "    sns.countplot(f'bin_{i}', hue='target', data= df_train, ax=ax[i])\n",
        "    ax[i].set_ylim([0, 500000])\n",
        "    ax[i].set_title(f'bin_{i}', fontsize=15)\n",
        "fig.suptitle(\"Binary Feature Distribution (Train Data)\", fontsize=20)\n",
        "plt.show()"
      ],
      "execution_count": 8,
      "outputs": [
        {
          "output_type": "display_data",
          "data": {
            "image/png": "[encoded data removed]",
            "text/plain": [
              "<Figure size 2160x576 with 5 Axes>"
            ]
          },
          "metadata": {
            "tags": [],
            "needs_background": "light"
          }
        }
      ]
    },
    {
      "cell_type": "code",
      "metadata": {
        "id": "zi-2yjf-BRWU",
        "colab_type": "code",
        "outputId": "ced182ab-9bf4-4ed8-9f6e-adcfcf48a9f3",
        "colab": {
          "base_uri": "https://localhost:8080/",
          "height": 656
        }
      },
      "source": [
        "#Looking at Distribution of nominal features on train data\n",
        "fig, ax = plt.subplots(2,3, figsize=(30, 15))\n",
        "for i in range(5): \n",
        "    sns.countplot(f'nom_{i}', data= df_train, ax=ax[i//3][i%3],\n",
        "                 order=df_train[f'nom_{i}'].value_counts().index)\n",
        "    ax[i//3][i%3].set_ylim([0, 350000])\n",
        "    ax[i//3][i%3].set_title(f'nom_{i}', fontsize=15)\n",
        "fig.suptitle(\"Nominal Feature Distribution (Train Data)\", fontsize=20)\n",
        "plt.show()"
      ],
      "execution_count": 9,
      "outputs": [
        {
          "output_type": "display_data",
          "data": {
            "image/png": "[encoded data removed]",
            "text/plain": [
              "<Figure size 2160x1080 with 6 Axes>"
            ]
          },
          "metadata": {
            "tags": [],
            "needs_background": "light"
          }
        }
      ]
    },
    {
      "cell_type": "code",
      "metadata": {
        "id": "ImtGS1OECBiZ",
        "colab_type": "code",
        "outputId": "c3bf8e6c-c452-4a9f-e0a4-b41208fb56e6",
        "colab": {
          "base_uri": "https://localhost:8080/",
          "height": 656
        }
      },
      "source": [
        "#Looking at Distribution of nominal features on test data\n",
        "fig, ax = plt.subplots(2,3, figsize=(30, 15))\n",
        "for i in range(5): \n",
        "    sns.countplot(f'nom_{i}', data= df_test, ax=ax[i//3][i%3],\n",
        "                 order=df_test[f'nom_{i}'].value_counts().index)\n",
        "    ax[i//3][i%3].set_ylim([0, 350000])\n",
        "    ax[i//3][i%3].set_title(f'nom_{i}', fontsize=15)\n",
        "fig.suptitle(\"Nominal Feature Distribution (Test Data)\", fontsize=20)\n",
        "plt.show()"
      ],
      "execution_count": 10,
      "outputs": [
        {
          "output_type": "display_data",
          "data": {
            "image/png": "[encoded data removed]",
            "text/plain": [
              "<Figure size 2160x1080 with 6 Axes>"
            ]
          },
          "metadata": {
            "tags": [],
            "needs_background": "light"
          }
        }
      ]
    },
    {
      "cell_type": "code",
      "metadata": {
        "id": "pxlAIqvcBnxX",
        "colab_type": "code",
        "outputId": "aafca4d4-a245-4142-c2b5-2e0a41396bec",
        "colab": {
          "base_uri": "https://localhost:8080/",
          "height": 656
        }
      },
      "source": [
        "#Looking at Distribution of nominal features on train data\n",
        "fig, ax = plt.subplots(2,3, figsize=(30, 15))\n",
        "for i in range(5): \n",
        "    sns.countplot(f'nom_{i}', hue='target', data= df_train, ax=ax[i//3][i%3],\n",
        "                 order=df_train[f'nom_{i}'].value_counts().index)\n",
        "    ax[i//3][i%3].set_ylim([0, 300000])\n",
        "    ax[i//3][i%3].set_title(f'nom_{i}', fontsize=15)\n",
        "fig.suptitle(\"Nominal Feature Distribution (Train Data)\", fontsize=20)\n",
        "plt.show()"
      ],
      "execution_count": 11,
      "outputs": [
        {
          "output_type": "display_data",
          "data": {
            "image/png": "[encoded data removed]",
            "text/plain": [
              "<Figure size 2160x1080 with 6 Axes>"
            ]
          },
          "metadata": {
            "tags": [],
            "needs_background": "light"
          }
        }
      ]
    },
    {
      "cell_type": "code",
      "metadata": {
        "id": "gIpYOF3AC0Sz",
        "colab_type": "code",
        "outputId": "c14e01a7-76a5-4a0f-f609-dd3e4a0fbce2",
        "colab": {
          "base_uri": "https://localhost:8080/",
          "height": 375
        }
      },
      "source": [
        "#Looking at Distribution of ordinal features on train data\n",
        "fig, ax = plt.subplots(1,3, figsize=(30, 8))\n",
        "\n",
        "ord_order = [\n",
        "    [1.0, 2.0, 3.0],\n",
        "    ['Novice', 'Contributor', 'Expert', 'Master', 'Grandmaster'],\n",
        "    ['Freezing', 'Cold', 'Warm', 'Hot', 'Boiling Hot', 'Lava Hot']\n",
        "]\n",
        "\n",
        "for i in range(3): \n",
        "    sns.countplot(f'ord_{i}', hue='target', data= df_train, ax=ax[i],\n",
        "                  order = ord_order[i]\n",
        "                 )\n",
        "    ax[i].set_ylim([0, 200000])\n",
        "    ax[i].set_title(f'ord_{i}', fontsize=15)\n",
        "fig.suptitle(\"Ordinal Feature Distribution (Train Data)\", fontsize=20)\n",
        "plt.show()"
      ],
      "execution_count": 12,
      "outputs": [
        {
          "output_type": "display_data",
          "data": {
            "image/png": "[encoded data removed]",
            "text/plain": [
              "<Figure size 2160x576 with 3 Axes>"
            ]
          },
          "metadata": {
            "tags": [],
            "needs_background": "light"
          }
        }
      ]
    },
    {
      "cell_type": "code",
      "metadata": {
        "id": "jXYbYywjC9Ek",
        "colab_type": "code",
        "outputId": "50679bcd-499a-4a4f-9f7b-f445b01153e8",
        "colab": {
          "base_uri": "https://localhost:8080/",
          "height": 429
        }
      },
      "source": [
        "#Looking at Distribution of ordinal features on train data\n",
        "fig, ax = plt.subplots(1,2, figsize=(24, 8))\n",
        "\n",
        "for i in range(3, 5): \n",
        "    sns.countplot(f'ord_{i}', hue='target', data= df_train, ax=ax[i-3],\n",
        "                  order = sorted(df_train[f'ord_{i}'].dropna().unique())\n",
        "                 )\n",
        "    ax[i-3].set_ylim([0, 75000])\n",
        "    ax[i-3].set_title(f'ord_{i}', fontsize=15)\n",
        "plt.show()"
      ],
      "execution_count": 13,
      "outputs": [
        {
          "output_type": "display_data",
          "data": {
            "image/png": "[encoded data removed]",
            "text/plain": [
              "<Figure size 1728x576 with 2 Axes>"
            ]
          },
          "metadata": {
            "tags": [],
            "needs_background": "light"
          }
        }
      ]
    },
    {
      "cell_type": "code",
      "metadata": {
        "id": "X1PZeTrWJHq1",
        "colab_type": "code",
        "colab": {
          "base_uri": "https://localhost:8080/",
          "height": 366
        },
        "outputId": "bdfcc323-e41c-4601-891a-c1fe156a6c09"
      },
      "source": [
        "#distribution of day varibale\n",
        "plt.figure(figsize=(22,6))\n",
        "plt.title('Day distribution')\n",
        "ax = sns.countplot(df_train.day, hue=df_train.target)\n",
        "for p in ax.patches:\n",
        "    ax.text(p.get_x()+p.get_width()/2., p.get_height()+1000, f'{100*p.get_height()/height:.2f} %',ha='center')\n",
        "plt.show()"
      ],
      "execution_count": 14,
      "outputs": [
        {
          "output_type": "display_data",
          "data": {
            "image/png": "[encoded data removed]",
            "text/plain": [
              "<Figure size 1584x432 with 1 Axes>"
            ]
          },
          "metadata": {
            "tags": [],
            "needs_background": "light"
          }
        }
      ]
    },
    {
      "cell_type": "code",
      "metadata": {
        "id": "2IJsk9wcJcf2",
        "colab_type": "code",
        "colab": {
          "base_uri": "https://localhost:8080/",
          "height": 366
        },
        "outputId": "f8aa9d80-4750-484e-9f91-f797ee9ba0ba"
      },
      "source": [
        "#distribution of month varibale\n",
        "plt.figure(figsize=(22,6))\n",
        "plt.title('Month distribution')\n",
        "ax = sns.countplot(df_train.month, hue=df_train.target)\n",
        "for p in ax.patches:\n",
        "    ax.text(p.get_x()+p.get_width()/2., p.get_height()+1000, f'{100*p.get_height()/height:.2f} %', ha='center')\n",
        "plt.show()"
      ],
      "execution_count": 15,
      "outputs": [
        {
          "output_type": "display_data",
          "data": {
            "image/png": "[encoded data removed]",
            "text/plain": [
              "<Figure size 1584x432 with 1 Axes>"
            ]
          },
          "metadata": {
            "tags": [],
            "needs_background": "light"
          }
        }
      ]
    },
    {
      "cell_type": "code",
      "metadata": {
        "id": "lrBOzq1CfoA1",
        "colab_type": "code",
        "outputId": "d85919ce-34f4-4cdc-c9c4-8249b3613f5e",
        "colab": {
          "base_uri": "https://localhost:8080/",
          "height": 102
        }
      },
      "source": [
        "df_train.columns"
      ],
      "execution_count": 16,
      "outputs": [
        {
          "output_type": "execute_result",
          "data": {
            "text/plain": [
              "Index(['id', 'bin_0', 'bin_1', 'bin_2', 'bin_3', 'bin_4', 'nom_0', 'nom_1',\n",
              "       'nom_2', 'nom_3', 'nom_4', 'nom_5', 'nom_6', 'nom_7', 'nom_8', 'nom_9',\n",
              "       'ord_0', 'ord_1', 'ord_2', 'ord_3', 'ord_4', 'ord_5', 'day', 'month',\n",
              "       'target'],\n",
              "      dtype='object')"
            ]
          },
          "metadata": {
            "tags": []
          },
          "execution_count": 16
        }
      ]
    },
    {
      "cell_type": "code",
      "metadata": {
        "id": "XQSPKkdrvuGs",
        "colab_type": "code",
        "outputId": "7be43f6f-939c-4043-8329-8afbb4bacf8e",
        "colab": {
          "base_uri": "https://localhost:8080/",
          "height": 85
        }
      },
      "source": [
        "df_test.columns"
      ],
      "execution_count": 17,
      "outputs": [
        {
          "output_type": "execute_result",
          "data": {
            "text/plain": [
              "Index(['id', 'bin_0', 'bin_1', 'bin_2', 'bin_3', 'bin_4', 'nom_0', 'nom_1',\n",
              "       'nom_2', 'nom_3', 'nom_4', 'nom_5', 'nom_6', 'nom_7', 'nom_8', 'nom_9',\n",
              "       'ord_0', 'ord_1', 'ord_2', 'ord_3', 'ord_4', 'ord_5', 'day', 'month'],\n",
              "      dtype='object')"
            ]
          },
          "metadata": {
            "tags": []
          },
          "execution_count": 17
        }
      ]
    },
    {
      "cell_type": "code",
      "metadata": {
        "id": "-UF6Mq_Jvy4v",
        "colab_type": "code",
        "outputId": "cf10466b-689a-4e2c-d9f3-001517a29e46",
        "colab": {
          "base_uri": "https://localhost:8080/",
          "height": 258
        }
      },
      "source": [
        "df_train.head()"
      ],
      "execution_count": 18,
      "outputs": [
        {
          "output_type": "execute_result",
          "data": {
            "text/html": [
              "<div>\n",
              "<style scoped>\n",
              "    .dataframe tbody tr th:only-of-type {\n",
              "        vertical-align: middle;\n",
              "    }\n",
              "\n",
              "    .dataframe tbody tr th {\n",
              "        vertical-align: top;\n",
              "    }\n",
              "\n",
              "    .dataframe thead th {\n",
              "        text-align: right;\n",
              "    }\n",
              "</style>\n",
              "<table border=\"1\" class=\"dataframe\">\n",
              "  <thead>\n",
              "    <tr style=\"text-align: right;\">\n",
              "      <th></th>\n",
              "      <th>id</th>\n",
              "      <th>bin_0</th>\n",
              "      <th>bin_1</th>\n",
              "      <th>bin_2</th>\n",
              "      <th>bin_3</th>\n",
              "      <th>bin_4</th>\n",
              "      <th>nom_0</th>\n",
              "      <th>nom_1</th>\n",
              "      <th>nom_2</th>\n",
              "      <th>nom_3</th>\n",
              "      <th>nom_4</th>\n",
              "      <th>nom_5</th>\n",
              "      <th>nom_6</th>\n",
              "      <th>nom_7</th>\n",
              "      <th>nom_8</th>\n",
              "      <th>nom_9</th>\n",
              "      <th>ord_0</th>\n",
              "      <th>ord_1</th>\n",
              "      <th>ord_2</th>\n",
              "      <th>ord_3</th>\n",
              "      <th>ord_4</th>\n",
              "      <th>ord_5</th>\n",
              "      <th>day</th>\n",
              "      <th>month</th>\n",
              "      <th>target</th>\n",
              "    </tr>\n",
              "  </thead>\n",
              "  <tbody>\n",
              "    <tr>\n",
              "      <th>0</th>\n",
              "      <td>0</td>\n",
              "      <td>0.0</td>\n",
              "      <td>0.0</td>\n",
              "      <td>0.0</td>\n",
              "      <td>F</td>\n",
              "      <td>N</td>\n",
              "      <td>Red</td>\n",
              "      <td>Trapezoid</td>\n",
              "      <td>Hamster</td>\n",
              "      <td>Russia</td>\n",
              "      <td>Bassoon</td>\n",
              "      <td>de4c57ee2</td>\n",
              "      <td>a64bc7ddf</td>\n",
              "      <td>598080a91</td>\n",
              "      <td>0256c7a4b</td>\n",
              "      <td>02e7c8990</td>\n",
              "      <td>3.0</td>\n",
              "      <td>Contributor</td>\n",
              "      <td>Hot</td>\n",
              "      <td>c</td>\n",
              "      <td>U</td>\n",
              "      <td>Pw</td>\n",
              "      <td>6.0</td>\n",
              "      <td>3.0</td>\n",
              "      <td>0</td>\n",
              "    </tr>\n",
              "    <tr>\n",
              "      <th>1</th>\n",
              "      <td>1</td>\n",
              "      <td>1.0</td>\n",
              "      <td>1.0</td>\n",
              "      <td>0.0</td>\n",
              "      <td>F</td>\n",
              "      <td>Y</td>\n",
              "      <td>Red</td>\n",
              "      <td>Star</td>\n",
              "      <td>Axolotl</td>\n",
              "      <td>NaN</td>\n",
              "      <td>Theremin</td>\n",
              "      <td>2bb3c3e5c</td>\n",
              "      <td>3a3a936e8</td>\n",
              "      <td>1dddb8473</td>\n",
              "      <td>52ead350c</td>\n",
              "      <td>f37df64af</td>\n",
              "      <td>3.0</td>\n",
              "      <td>Grandmaster</td>\n",
              "      <td>Warm</td>\n",
              "      <td>e</td>\n",
              "      <td>X</td>\n",
              "      <td>pE</td>\n",
              "      <td>7.0</td>\n",
              "      <td>7.0</td>\n",
              "      <td>0</td>\n",
              "    </tr>\n",
              "    <tr>\n",
              "      <th>2</th>\n",
              "      <td>2</td>\n",
              "      <td>0.0</td>\n",
              "      <td>1.0</td>\n",
              "      <td>0.0</td>\n",
              "      <td>F</td>\n",
              "      <td>N</td>\n",
              "      <td>Red</td>\n",
              "      <td>NaN</td>\n",
              "      <td>Hamster</td>\n",
              "      <td>Canada</td>\n",
              "      <td>Bassoon</td>\n",
              "      <td>b574c9841</td>\n",
              "      <td>708248125</td>\n",
              "      <td>5ddc9a726</td>\n",
              "      <td>745b909d1</td>\n",
              "      <td>NaN</td>\n",
              "      <td>3.0</td>\n",
              "      <td>NaN</td>\n",
              "      <td>Freezing</td>\n",
              "      <td>n</td>\n",
              "      <td>P</td>\n",
              "      <td>eN</td>\n",
              "      <td>5.0</td>\n",
              "      <td>9.0</td>\n",
              "      <td>0</td>\n",
              "    </tr>\n",
              "    <tr>\n",
              "      <th>3</th>\n",
              "      <td>3</td>\n",
              "      <td>NaN</td>\n",
              "      <td>0.0</td>\n",
              "      <td>0.0</td>\n",
              "      <td>F</td>\n",
              "      <td>N</td>\n",
              "      <td>Red</td>\n",
              "      <td>Circle</td>\n",
              "      <td>Hamster</td>\n",
              "      <td>Finland</td>\n",
              "      <td>Theremin</td>\n",
              "      <td>673bdf1f6</td>\n",
              "      <td>23edb8da3</td>\n",
              "      <td>3a33ef960</td>\n",
              "      <td>bdaa56dd1</td>\n",
              "      <td>f9d456e57</td>\n",
              "      <td>1.0</td>\n",
              "      <td>Novice</td>\n",
              "      <td>Lava Hot</td>\n",
              "      <td>a</td>\n",
              "      <td>C</td>\n",
              "      <td>NaN</td>\n",
              "      <td>3.0</td>\n",
              "      <td>3.0</td>\n",
              "      <td>0</td>\n",
              "    </tr>\n",
              "    <tr>\n",
              "      <th>4</th>\n",
              "      <td>4</td>\n",
              "      <td>0.0</td>\n",
              "      <td>NaN</td>\n",
              "      <td>0.0</td>\n",
              "      <td>T</td>\n",
              "      <td>N</td>\n",
              "      <td>Red</td>\n",
              "      <td>Triangle</td>\n",
              "      <td>Hamster</td>\n",
              "      <td>Costa Rica</td>\n",
              "      <td>NaN</td>\n",
              "      <td>777d1ac2c</td>\n",
              "      <td>3a7975e46</td>\n",
              "      <td>bc9cc2a94</td>\n",
              "      <td>NaN</td>\n",
              "      <td>c5361037c</td>\n",
              "      <td>3.0</td>\n",
              "      <td>Grandmaster</td>\n",
              "      <td>Cold</td>\n",
              "      <td>h</td>\n",
              "      <td>C</td>\n",
              "      <td>OZ</td>\n",
              "      <td>5.0</td>\n",
              "      <td>12.0</td>\n",
              "      <td>0</td>\n",
              "    </tr>\n",
              "  </tbody>\n",
              "</table>\n",
              "</div>"
            ],
            "text/plain": [
              "   id  bin_0  bin_1  bin_2 bin_3 bin_4  ... ord_3 ord_4 ord_5  day month target\n",
              "0   0    0.0    0.0    0.0     F     N  ...     c     U    Pw  6.0   3.0      0\n",
              "1   1    1.0    1.0    0.0     F     Y  ...     e     X    pE  7.0   7.0      0\n",
              "2   2    0.0    1.0    0.0     F     N  ...     n     P    eN  5.0   9.0      0\n",
              "3   3    NaN    0.0    0.0     F     N  ...     a     C   NaN  3.0   3.0      0\n",
              "4   4    0.0    NaN    0.0     T     N  ...     h     C    OZ  5.0  12.0      0\n",
              "\n",
              "[5 rows x 25 columns]"
            ]
          },
          "metadata": {
            "tags": []
          },
          "execution_count": 18
        }
      ]
    },
    {
      "cell_type": "code",
      "metadata": {
        "id": "7xGK5yOnv22D",
        "colab_type": "code",
        "outputId": "ecaaa5de-a1f3-44e6-d74f-56f1d0f8eb99",
        "colab": {
          "base_uri": "https://localhost:8080/",
          "height": 275
        }
      },
      "source": [
        "df_test.head()"
      ],
      "execution_count": 19,
      "outputs": [
        {
          "output_type": "execute_result",
          "data": {
            "text/html": [
              "<div>\n",
              "<style scoped>\n",
              "    .dataframe tbody tr th:only-of-type {\n",
              "        vertical-align: middle;\n",
              "    }\n",
              "\n",
              "    .dataframe tbody tr th {\n",
              "        vertical-align: top;\n",
              "    }\n",
              "\n",
              "    .dataframe thead th {\n",
              "        text-align: right;\n",
              "    }\n",
              "</style>\n",
              "<table border=\"1\" class=\"dataframe\">\n",
              "  <thead>\n",
              "    <tr style=\"text-align: right;\">\n",
              "      <th></th>\n",
              "      <th>id</th>\n",
              "      <th>bin_0</th>\n",
              "      <th>bin_1</th>\n",
              "      <th>bin_2</th>\n",
              "      <th>bin_3</th>\n",
              "      <th>bin_4</th>\n",
              "      <th>nom_0</th>\n",
              "      <th>nom_1</th>\n",
              "      <th>nom_2</th>\n",
              "      <th>nom_3</th>\n",
              "      <th>nom_4</th>\n",
              "      <th>nom_5</th>\n",
              "      <th>nom_6</th>\n",
              "      <th>nom_7</th>\n",
              "      <th>nom_8</th>\n",
              "      <th>nom_9</th>\n",
              "      <th>ord_0</th>\n",
              "      <th>ord_1</th>\n",
              "      <th>ord_2</th>\n",
              "      <th>ord_3</th>\n",
              "      <th>ord_4</th>\n",
              "      <th>ord_5</th>\n",
              "      <th>day</th>\n",
              "      <th>month</th>\n",
              "    </tr>\n",
              "  </thead>\n",
              "  <tbody>\n",
              "    <tr>\n",
              "      <th>0</th>\n",
              "      <td>600000</td>\n",
              "      <td>0.0</td>\n",
              "      <td>0.0</td>\n",
              "      <td>0.0</td>\n",
              "      <td>F</td>\n",
              "      <td>Y</td>\n",
              "      <td>Blue</td>\n",
              "      <td>Polygon</td>\n",
              "      <td>Axolotl</td>\n",
              "      <td>Finland</td>\n",
              "      <td>Piano</td>\n",
              "      <td>52f6dd16c</td>\n",
              "      <td>147d704e4</td>\n",
              "      <td>8d857a0a1</td>\n",
              "      <td>ca9ad1d4b</td>\n",
              "      <td>fced9e114</td>\n",
              "      <td>3.0</td>\n",
              "      <td>Novice</td>\n",
              "      <td>Boiling Hot</td>\n",
              "      <td>f</td>\n",
              "      <td>U</td>\n",
              "      <td>oU</td>\n",
              "      <td>3.0</td>\n",
              "      <td>9.0</td>\n",
              "    </tr>\n",
              "    <tr>\n",
              "      <th>1</th>\n",
              "      <td>600001</td>\n",
              "      <td>0.0</td>\n",
              "      <td>0.0</td>\n",
              "      <td>0.0</td>\n",
              "      <td>F</td>\n",
              "      <td>Y</td>\n",
              "      <td>Red</td>\n",
              "      <td>Circle</td>\n",
              "      <td>Lion</td>\n",
              "      <td>Russia</td>\n",
              "      <td>Bassoon</td>\n",
              "      <td>691ebeae8</td>\n",
              "      <td>8653dcc2e</td>\n",
              "      <td>67a8d4ebb</td>\n",
              "      <td>060a21580</td>\n",
              "      <td>7ca8775da</td>\n",
              "      <td>1.0</td>\n",
              "      <td>Novice</td>\n",
              "      <td>Cold</td>\n",
              "      <td>n</td>\n",
              "      <td>N</td>\n",
              "      <td>NaN</td>\n",
              "      <td>2.0</td>\n",
              "      <td>8.0</td>\n",
              "    </tr>\n",
              "    <tr>\n",
              "      <th>2</th>\n",
              "      <td>600002</td>\n",
              "      <td>0.0</td>\n",
              "      <td>0.0</td>\n",
              "      <td>0.0</td>\n",
              "      <td>F</td>\n",
              "      <td>Y</td>\n",
              "      <td>Blue</td>\n",
              "      <td>Circle</td>\n",
              "      <td>Axolotl</td>\n",
              "      <td>Russia</td>\n",
              "      <td>Theremin</td>\n",
              "      <td>81f792c16</td>\n",
              "      <td>6cdda499e</td>\n",
              "      <td>69403e18c</td>\n",
              "      <td>165e81a00</td>\n",
              "      <td>5940334c9</td>\n",
              "      <td>1.0</td>\n",
              "      <td>Expert</td>\n",
              "      <td>Warm</td>\n",
              "      <td>i</td>\n",
              "      <td>N</td>\n",
              "      <td>DN</td>\n",
              "      <td>2.0</td>\n",
              "      <td>6.0</td>\n",
              "    </tr>\n",
              "    <tr>\n",
              "      <th>3</th>\n",
              "      <td>600003</td>\n",
              "      <td>1.0</td>\n",
              "      <td>0.0</td>\n",
              "      <td>0.0</td>\n",
              "      <td>F</td>\n",
              "      <td>N</td>\n",
              "      <td>Red</td>\n",
              "      <td>Polygon</td>\n",
              "      <td>Axolotl</td>\n",
              "      <td>Costa Rica</td>\n",
              "      <td>Bassoon</td>\n",
              "      <td>c9134205b</td>\n",
              "      <td>acbca4827</td>\n",
              "      <td>cb681246b</td>\n",
              "      <td>77d41330d</td>\n",
              "      <td>6fbdeefc8</td>\n",
              "      <td>1.0</td>\n",
              "      <td>Expert</td>\n",
              "      <td>Hot</td>\n",
              "      <td>m</td>\n",
              "      <td>B</td>\n",
              "      <td>AG</td>\n",
              "      <td>1.0</td>\n",
              "      <td>6.0</td>\n",
              "    </tr>\n",
              "    <tr>\n",
              "      <th>4</th>\n",
              "      <td>600004</td>\n",
              "      <td>0.0</td>\n",
              "      <td>0.0</td>\n",
              "      <td>1.0</td>\n",
              "      <td>F</td>\n",
              "      <td>Y</td>\n",
              "      <td>Red</td>\n",
              "      <td>Circle</td>\n",
              "      <td>NaN</td>\n",
              "      <td>Finland</td>\n",
              "      <td>Theremin</td>\n",
              "      <td>f0f100f57</td>\n",
              "      <td>6f800b9af</td>\n",
              "      <td>cd9feb5c6</td>\n",
              "      <td>2218d9dfe</td>\n",
              "      <td>2a27c8fde</td>\n",
              "      <td>1.0</td>\n",
              "      <td>Contributor</td>\n",
              "      <td>Lava Hot</td>\n",
              "      <td>o</td>\n",
              "      <td>J</td>\n",
              "      <td>DT</td>\n",
              "      <td>3.0</td>\n",
              "      <td>3.0</td>\n",
              "    </tr>\n",
              "  </tbody>\n",
              "</table>\n",
              "</div>"
            ],
            "text/plain": [
              "       id  bin_0  bin_1  bin_2 bin_3  ... ord_3 ord_4 ord_5  day month\n",
              "0  600000    0.0    0.0    0.0     F  ...     f     U    oU  3.0   9.0\n",
              "1  600001    0.0    0.0    0.0     F  ...     n     N   NaN  2.0   8.0\n",
              "2  600002    0.0    0.0    0.0     F  ...     i     N    DN  2.0   6.0\n",
              "3  600003    1.0    0.0    0.0     F  ...     m     B    AG  1.0   6.0\n",
              "4  600004    0.0    0.0    1.0     F  ...     o     J    DT  3.0   3.0\n",
              "\n",
              "[5 rows x 24 columns]"
            ]
          },
          "metadata": {
            "tags": []
          },
          "execution_count": 19
        }
      ]
    },
    {
      "cell_type": "code",
      "metadata": {
        "id": "pHiCZMWXwgcB",
        "colab_type": "code",
        "outputId": "a949ef6d-58ea-4c45-a1e2-b599ab72532c",
        "colab": {
          "base_uri": "https://localhost:8080/",
          "height": 561
        }
      },
      "source": [
        "df_train.info()"
      ],
      "execution_count": 20,
      "outputs": [
        {
          "output_type": "stream",
          "text": [
            "<class 'pandas.core.frame.DataFrame'>\n",
            "RangeIndex: 600000 entries, 0 to 599999\n",
            "Data columns (total 25 columns):\n",
            " #   Column  Non-Null Count   Dtype  \n",
            "---  ------  --------------   -----  \n",
            " 0   id      600000 non-null  int64  \n",
            " 1   bin_0   582106 non-null  float64\n",
            " 2   bin_1   581997 non-null  float64\n",
            " 3   bin_2   582070 non-null  float64\n",
            " 4   bin_3   581986 non-null  object \n",
            " 5   bin_4   581953 non-null  object \n",
            " 6   nom_0   581748 non-null  object \n",
            " 7   nom_1   581844 non-null  object \n",
            " 8   nom_2   581965 non-null  object \n",
            " 9   nom_3   581879 non-null  object \n",
            " 10  nom_4   581965 non-null  object \n",
            " 11  nom_5   582222 non-null  object \n",
            " 12  nom_6   581869 non-null  object \n",
            " 13  nom_7   581997 non-null  object \n",
            " 14  nom_8   582245 non-null  object \n",
            " 15  nom_9   581927 non-null  object \n",
            " 16  ord_0   581712 non-null  float64\n",
            " 17  ord_1   581959 non-null  object \n",
            " 18  ord_2   581925 non-null  object \n",
            " 19  ord_3   582084 non-null  object \n",
            " 20  ord_4   582070 non-null  object \n",
            " 21  ord_5   582287 non-null  object \n",
            " 22  day     582048 non-null  float64\n",
            " 23  month   582012 non-null  float64\n",
            " 24  target  600000 non-null  int64  \n",
            "dtypes: float64(6), int64(2), object(17)\n",
            "memory usage: 114.4+ MB\n"
          ],
          "name": "stdout"
        }
      ]
    },
    {
      "cell_type": "code",
      "metadata": {
        "id": "yvS1DSFmhzip",
        "colab_type": "code",
        "outputId": "679a6489-fe3c-4214-b7ad-6ab02a8e028d",
        "colab": {
          "base_uri": "https://localhost:8080/",
          "height": 459
        }
      },
      "source": [
        "df_train.nunique()"
      ],
      "execution_count": 21,
      "outputs": [
        {
          "output_type": "execute_result",
          "data": {
            "text/plain": [
              "id        600000\n",
              "bin_0          2\n",
              "bin_1          2\n",
              "bin_2          2\n",
              "bin_3          2\n",
              "bin_4          2\n",
              "nom_0          3\n",
              "nom_1          6\n",
              "nom_2          6\n",
              "nom_3          6\n",
              "nom_4          4\n",
              "nom_5       1220\n",
              "nom_6       1519\n",
              "nom_7        222\n",
              "nom_8        222\n",
              "nom_9       2218\n",
              "ord_0          3\n",
              "ord_1          5\n",
              "ord_2          6\n",
              "ord_3         15\n",
              "ord_4         26\n",
              "ord_5        190\n",
              "day            7\n",
              "month         12\n",
              "target         2\n",
              "dtype: int64"
            ]
          },
          "metadata": {
            "tags": []
          },
          "execution_count": 21
        }
      ]
    },
    {
      "cell_type": "code",
      "metadata": {
        "id": "2LLTpvEcfoA6",
        "colab_type": "code",
        "colab": {}
      },
      "source": [
        "#Convert object to string\n",
        "df_train[['bin_3','bin_4','nom_0', 'nom_1',\n",
        "       'nom_2', 'nom_3', 'nom_4', 'nom_5', 'nom_6', 'nom_7', 'nom_8', 'nom_9']]= df_train[['bin_3','bin_4','nom_0', 'nom_1',\n",
        "       'nom_2', 'nom_3', 'nom_4', 'nom_5', 'nom_6', 'nom_7', 'nom_8', 'nom_9']].astype('str')\n",
        "\n",
        "df_test[['bin_3','bin_4','nom_0', 'nom_1',\n",
        "       'nom_2', 'nom_3', 'nom_4', 'nom_5', 'nom_6', 'nom_7', 'nom_8', 'nom_9']]= df_test[['bin_3','bin_4','nom_0', 'nom_1',\n",
        "       'nom_2', 'nom_3', 'nom_4', 'nom_5', 'nom_6', 'nom_7', 'nom_8', 'nom_9']].astype('str')\n"
      ],
      "execution_count": 0,
      "outputs": []
    },
    {
      "cell_type": "code",
      "metadata": {
        "id": "S3SJYde_foA3",
        "colab_type": "code",
        "colab": {}
      },
      "source": [
        "#Mask the Null values to retain them during encoding\n",
        "mask_train= df_train.isin(['nan'])\n",
        "mask_test= df_test.isin(['nan'])"
      ],
      "execution_count": 0,
      "outputs": []
    },
    {
      "cell_type": "markdown",
      "metadata": {
        "id": "UYNXNKW0xtEa",
        "colab_type": "text"
      },
      "source": [
        "**Encoding Nominal Variables**"
      ]
    },
    {
      "cell_type": "code",
      "metadata": {
        "id": "qVVdPpPZfoA7",
        "colab_type": "code",
        "colab": {}
      },
      "source": [
        "#Encode all the nominal features and the two string binary feature\n",
        "\n",
        "\n",
        "class MultiColumnLabelEncoder:\n",
        "    def __init__(self,columns = None):\n",
        "        self.columns = columns # array of column names to encode\n",
        "\n",
        "    def fit(self,X,y=None):\n",
        "        return self # not relevant here\n",
        "\n",
        "    def transform(self,X):\n",
        "        '''\n",
        "        Transforms columns of X specified in self.columns using\n",
        "        LabelEncoder(). If no columns specified, transforms all\n",
        "        columns in X.\n",
        "        '''\n",
        "        output = X.copy()\n",
        "        if self.columns is not None:\n",
        "            for col in self.columns:\n",
        "                output[col] = LabelEncoder().fit_transform(output[col])\n",
        "        else:\n",
        "            for colname,col in output.iteritems():\n",
        "                output[colname] = LabelEncoder().fit_transform(col)\n",
        "        return output\n",
        "\n",
        "    def fit_transform(self,X,y=None):\n",
        "        return self.fit(X,y).transform(X)"
      ],
      "execution_count": 0,
      "outputs": []
    },
    {
      "cell_type": "code",
      "metadata": {
        "id": "0VELN3cewt7G",
        "colab_type": "code",
        "colab": {}
      },
      "source": [
        "df_train_enc= MultiColumnLabelEncoder(columns = [ 'bin_3','bin_4','nom_0', 'nom_1',\n",
        "       'nom_2', 'nom_3', 'nom_4', 'nom_5', 'nom_6', 'nom_7', 'nom_8', 'nom_9']).fit_transform(df_train)\n",
        "df_train_enc=pd.DataFrame(df_train_enc.where(~mask_train, other=np.nan))\n",
        "\n",
        "df_test_enc= MultiColumnLabelEncoder(columns = [ 'bin_3','bin_4','nom_0', 'nom_1',\n",
        "       'nom_2', 'nom_3', 'nom_4', 'nom_5', 'nom_6', 'nom_7', 'nom_8', 'nom_9']).fit_transform(df_test)\n",
        "df_test_enc=pd.DataFrame(df_test_enc.where(~mask_test, other=np.nan))"
      ],
      "execution_count": 0,
      "outputs": []
    },
    {
      "cell_type": "markdown",
      "metadata": {
        "id": "pWC_J_F6xyHr",
        "colab_type": "text"
      },
      "source": [
        "**Encoding Ordinal Variables**"
      ]
    },
    {
      "cell_type": "code",
      "metadata": {
        "id": "1yuUonFsfoBA",
        "colab_type": "code",
        "colab": {}
      },
      "source": [
        "#map low cardinality ordinal features\n",
        "\n",
        "map_ord1 = {'Novice':1, 'Contributor':2, 'Expert':3, 'Master':4, 'Grandmaster':5}\n",
        "      \n",
        "df_train_enc.ord_1 = df_train_enc.ord_1.replace(map_ord1)\n",
        "df_test_enc.ord_1 = df_test_enc.ord_1.replace(map_ord1)\n",
        "\n",
        "map_ord2 = {'Freezing':1, 'Cold':10, 'Warm':25, 'Hot':50, 'Boiling Hot':100, 'Lava Hot':800}\n",
        "\n",
        "df_train_enc.ord_2 = df_train_enc.ord_2.replace(map_ord2)\n",
        "df_test_enc.ord_2 = df_test_enc.ord_2.replace(map_ord2)"
      ],
      "execution_count": 0,
      "outputs": []
    },
    {
      "cell_type": "code",
      "metadata": {
        "id": "YRDtlO_kfoBC",
        "colab_type": "code",
        "colab": {}
      },
      "source": [
        "#Encode high cardinality features\n",
        "map_ord3 = {'a':1, 'b':2, 'c':3, 'd':4, 'e':5, 'f':6, 'g':7, 'h':8, 'i':9, 'j':10, 'k':11, 'l':12,'m':13,'n':14, 'o':15}\n",
        "df_train_enc.ord_3 = df_train_enc.ord_3.replace(map_ord3)\n",
        "df_test_enc.ord_3 = df_test_enc.ord_3.replace(map_ord3)\n",
        "\n",
        "map_ord4 = {'A':1, 'B':2, 'C':3, 'D':4, 'E':5, 'F':6, 'G':7, 'H':8, 'I':9, 'J':10, 'K':11, 'L':12,'M':13,'N':14, 'O':15,\n",
        "           'P':16, 'Q':17, 'R':18, 'S':19, 'T':20, 'U':21, 'V':22, 'W':23, 'X':24, 'Y':25, 'Z':26}\n",
        "df_train_enc.ord_4 = df_train_enc.ord_4.replace(map_ord4)\n",
        "df_test_enc.ord_4 = df_test_enc.ord_4.replace(map_ord4)"
      ],
      "execution_count": 0,
      "outputs": []
    },
    {
      "cell_type": "code",
      "metadata": {
        "id": "lKJdJdpofoBD",
        "colab_type": "code",
        "colab": {}
      },
      "source": [
        "df_train_enc['ord_5_enc']=df_train_enc['ord_5']\n",
        "df_test_enc['ord_5_enc']=df_test_enc['ord_5']\n",
        "\n",
        "ce_ord = ce.OrdinalEncoder(cols = ['ord_5'])\n",
        "\n",
        "df_train_encall=ce_ord.fit_transform(df_train_enc, df_train_enc['ord_5_enc'])\n",
        "df_test_encall=ce_ord.fit_transform(df_test_enc, df_test_enc['ord_5_enc'])\n"
      ],
      "execution_count": 0,
      "outputs": []
    },
    {
      "cell_type": "code",
      "metadata": {
        "id": "3XSZV9Vs0LST",
        "colab_type": "code",
        "outputId": "310b20cd-8472-4da8-89e8-1284a9f120b2",
        "colab": {
          "base_uri": "https://localhost:8080/",
          "height": 102
        }
      },
      "source": [
        "df_train_enc.columns"
      ],
      "execution_count": 29,
      "outputs": [
        {
          "output_type": "execute_result",
          "data": {
            "text/plain": [
              "Index(['id', 'bin_0', 'bin_1', 'bin_2', 'bin_3', 'bin_4', 'nom_0', 'nom_1',\n",
              "       'nom_2', 'nom_3', 'nom_4', 'nom_5', 'nom_6', 'nom_7', 'nom_8', 'nom_9',\n",
              "       'ord_0', 'ord_1', 'ord_2', 'ord_3', 'ord_4', 'ord_5', 'day', 'month',\n",
              "       'target', 'ord_5_enc'],\n",
              "      dtype='object')"
            ]
          },
          "metadata": {
            "tags": []
          },
          "execution_count": 29
        }
      ]
    },
    {
      "cell_type": "code",
      "metadata": {
        "id": "PM5uWJL5foBF",
        "colab_type": "code",
        "colab": {}
      },
      "source": [
        "df_train_encoded= df_train_encall.drop(['target','ord_5_enc'], axis=1)\n",
        "df_test_encoded= df_test_encall.drop('ord_5_enc', axis=1)"
      ],
      "execution_count": 0,
      "outputs": []
    },
    {
      "cell_type": "code",
      "metadata": {
        "id": "UVdCYMNP0qIJ",
        "colab_type": "code",
        "outputId": "a332fe87-f9a6-468e-def3-e7c6e4c97b89",
        "colab": {
          "base_uri": "https://localhost:8080/",
          "height": 85
        }
      },
      "source": [
        "df_train_encoded.columns"
      ],
      "execution_count": 31,
      "outputs": [
        {
          "output_type": "execute_result",
          "data": {
            "text/plain": [
              "Index(['id', 'bin_0', 'bin_1', 'bin_2', 'bin_3', 'bin_4', 'nom_0', 'nom_1',\n",
              "       'nom_2', 'nom_3', 'nom_4', 'nom_5', 'nom_6', 'nom_7', 'nom_8', 'nom_9',\n",
              "       'ord_0', 'ord_1', 'ord_2', 'ord_3', 'ord_4', 'ord_5', 'day', 'month'],\n",
              "      dtype='object')"
            ]
          },
          "metadata": {
            "tags": []
          },
          "execution_count": 31
        }
      ]
    },
    {
      "cell_type": "code",
      "metadata": {
        "id": "zgYJ9RsgfoBH",
        "colab_type": "code",
        "outputId": "31a86e69-cd35-4e8b-a643-55cafbd6470d",
        "colab": {
          "base_uri": "https://localhost:8080/",
          "height": 544
        }
      },
      "source": [
        "df_train_encoded.info()"
      ],
      "execution_count": 32,
      "outputs": [
        {
          "output_type": "stream",
          "text": [
            "<class 'pandas.core.frame.DataFrame'>\n",
            "RangeIndex: 600000 entries, 0 to 599999\n",
            "Data columns (total 24 columns):\n",
            " #   Column  Non-Null Count   Dtype  \n",
            "---  ------  --------------   -----  \n",
            " 0   id      600000 non-null  int64  \n",
            " 1   bin_0   582106 non-null  float64\n",
            " 2   bin_1   581997 non-null  float64\n",
            " 3   bin_2   582070 non-null  float64\n",
            " 4   bin_3   581986 non-null  float64\n",
            " 5   bin_4   581953 non-null  float64\n",
            " 6   nom_0   581748 non-null  float64\n",
            " 7   nom_1   581844 non-null  float64\n",
            " 8   nom_2   581965 non-null  float64\n",
            " 9   nom_3   581879 non-null  float64\n",
            " 10  nom_4   581965 non-null  float64\n",
            " 11  nom_5   582222 non-null  float64\n",
            " 12  nom_6   581869 non-null  float64\n",
            " 13  nom_7   581997 non-null  float64\n",
            " 14  nom_8   582245 non-null  float64\n",
            " 15  nom_9   581927 non-null  float64\n",
            " 16  ord_0   581712 non-null  float64\n",
            " 17  ord_1   581959 non-null  float64\n",
            " 18  ord_2   581925 non-null  float64\n",
            " 19  ord_3   582084 non-null  float64\n",
            " 20  ord_4   582070 non-null  float64\n",
            " 21  ord_5   600000 non-null  int64  \n",
            " 22  day     582048 non-null  float64\n",
            " 23  month   582012 non-null  float64\n",
            "dtypes: float64(22), int64(2)\n",
            "memory usage: 109.9 MB\n"
          ],
          "name": "stdout"
        }
      ]
    },
    {
      "cell_type": "code",
      "metadata": {
        "id": "D74fPX-bTn1X",
        "colab_type": "code",
        "outputId": "944a72d6-590d-493f-a633-4239cf61e164",
        "colab": {
          "base_uri": "https://localhost:8080/",
          "height": 544
        }
      },
      "source": [
        "df_test_encoded.info()"
      ],
      "execution_count": 33,
      "outputs": [
        {
          "output_type": "stream",
          "text": [
            "<class 'pandas.core.frame.DataFrame'>\n",
            "RangeIndex: 400000 entries, 0 to 399999\n",
            "Data columns (total 24 columns):\n",
            " #   Column  Non-Null Count   Dtype  \n",
            "---  ------  --------------   -----  \n",
            " 0   id      400000 non-null  int64  \n",
            " 1   bin_0   388099 non-null  float64\n",
            " 2   bin_1   387962 non-null  float64\n",
            " 3   bin_2   388028 non-null  float64\n",
            " 4   bin_3   388049 non-null  float64\n",
            " 5   bin_4   388049 non-null  float64\n",
            " 6   nom_0   387938 non-null  float64\n",
            " 7   nom_1   388053 non-null  float64\n",
            " 8   nom_2   387821 non-null  float64\n",
            " 9   nom_3   387824 non-null  float64\n",
            " 10  nom_4   388007 non-null  float64\n",
            " 11  nom_5   388088 non-null  float64\n",
            " 12  nom_6   387988 non-null  float64\n",
            " 13  nom_7   387997 non-null  float64\n",
            " 14  nom_8   388044 non-null  float64\n",
            " 15  nom_9   387940 non-null  float64\n",
            " 16  ord_0   388107 non-null  float64\n",
            " 17  ord_1   387833 non-null  float64\n",
            " 18  ord_2   387895 non-null  float64\n",
            " 19  ord_3   387947 non-null  float64\n",
            " 20  ord_4   388067 non-null  float64\n",
            " 21  ord_5   400000 non-null  int64  \n",
            " 22  day     387975 non-null  float64\n",
            " 23  month   388016 non-null  float64\n",
            "dtypes: float64(22), int64(2)\n",
            "memory usage: 73.2 MB\n"
          ],
          "name": "stdout"
        }
      ]
    },
    {
      "cell_type": "markdown",
      "metadata": {
        "id": "wxKjwLkC2Ul8",
        "colab_type": "text"
      },
      "source": [
        "**Missing Imputing Values**"
      ]
    },
    {
      "cell_type": "code",
      "metadata": {
        "id": "KTXMYSFxfoBK",
        "colab_type": "code",
        "colab": {}
      },
      "source": [
        "#for median imputation replace 'mean' with 'median'\n",
        "imp_mean = SimpleImputer(missing_values=np.nan, strategy='most_frequent')\n",
        "imp_mean.fit(df_train_encoded)\n",
        "df_train_imputed=pd.DataFrame(imp_mean.transform(df_train_encoded))"
      ],
      "execution_count": 0,
      "outputs": []
    },
    {
      "cell_type": "code",
      "metadata": {
        "id": "5ClExV9t24g8",
        "colab_type": "code",
        "colab": {}
      },
      "source": [
        "imp_mean2 = SimpleImputer(missing_values=np.nan, strategy='most_frequent') \n",
        "imp_mean2.fit(df_test_encoded)\n",
        "df_test_imputed=pd.DataFrame(imp_mean.transform(df_test_encoded))"
      ],
      "execution_count": 0,
      "outputs": []
    },
    {
      "cell_type": "code",
      "metadata": {
        "id": "Cjd2dGXcfoBP",
        "colab_type": "code",
        "colab": {}
      },
      "source": [
        "df_train_imputed.columns=df_train_encoded.columns\n",
        "df_test_imputed.columns=df_test_encoded.columns\n"
      ],
      "execution_count": 0,
      "outputs": []
    },
    {
      "cell_type": "code",
      "metadata": {
        "id": "f5r0JgoPfoBQ",
        "colab_type": "code",
        "outputId": "4fc11e94-1db7-40df-9e95-884b60888395",
        "colab": {
          "base_uri": "https://localhost:8080/",
          "height": 442
        }
      },
      "source": [
        "print(df_train_imputed.dtypes)"
      ],
      "execution_count": 37,
      "outputs": [
        {
          "output_type": "stream",
          "text": [
            "id       float64\n",
            "bin_0    float64\n",
            "bin_1    float64\n",
            "bin_2    float64\n",
            "bin_3    float64\n",
            "bin_4    float64\n",
            "nom_0    float64\n",
            "nom_1    float64\n",
            "nom_2    float64\n",
            "nom_3    float64\n",
            "nom_4    float64\n",
            "nom_5    float64\n",
            "nom_6    float64\n",
            "nom_7    float64\n",
            "nom_8    float64\n",
            "nom_9    float64\n",
            "ord_0    float64\n",
            "ord_1    float64\n",
            "ord_2    float64\n",
            "ord_3    float64\n",
            "ord_4    float64\n",
            "ord_5    float64\n",
            "day      float64\n",
            "month    float64\n",
            "dtype: object\n"
          ],
          "name": "stdout"
        }
      ]
    },
    {
      "cell_type": "code",
      "metadata": {
        "scrolled": false,
        "id": "7C6xTh3XfoBS",
        "colab_type": "code",
        "outputId": "c66d7947-9c13-44a6-f030-fbbd9bbd48a5",
        "colab": {
          "base_uri": "https://localhost:8080/",
          "height": 442
        }
      },
      "source": [
        "print(df_test_imputed.dtypes)"
      ],
      "execution_count": 38,
      "outputs": [
        {
          "output_type": "stream",
          "text": [
            "id       float64\n",
            "bin_0    float64\n",
            "bin_1    float64\n",
            "bin_2    float64\n",
            "bin_3    float64\n",
            "bin_4    float64\n",
            "nom_0    float64\n",
            "nom_1    float64\n",
            "nom_2    float64\n",
            "nom_3    float64\n",
            "nom_4    float64\n",
            "nom_5    float64\n",
            "nom_6    float64\n",
            "nom_7    float64\n",
            "nom_8    float64\n",
            "nom_9    float64\n",
            "ord_0    float64\n",
            "ord_1    float64\n",
            "ord_2    float64\n",
            "ord_3    float64\n",
            "ord_4    float64\n",
            "ord_5    float64\n",
            "day      float64\n",
            "month    float64\n",
            "dtype: object\n"
          ],
          "name": "stdout"
        }
      ]
    },
    {
      "cell_type": "markdown",
      "metadata": {
        "id": "iR0JooYd3feL",
        "colab_type": "text"
      },
      "source": [
        "**Spliting Data to Train and Test**"
      ]
    },
    {
      "cell_type": "code",
      "metadata": {
        "id": "kJWzdrXvfoBU",
        "colab_type": "code",
        "colab": {}
      },
      "source": [
        "X_train, X_val, y_train, y_val = train_test_split(df_train_imputed,df_train_encall.target, test_size=0.25, random_state=420)"
      ],
      "execution_count": 0,
      "outputs": []
    },
    {
      "cell_type": "code",
      "metadata": {
        "id": "D0BHVkVKGJeM",
        "colab_type": "code",
        "outputId": "4b3a7cef-9070-474b-f1f2-075e0f680a2a",
        "colab": {
          "base_uri": "https://localhost:8080/",
          "height": 544
        }
      },
      "source": [
        "X_train.info()"
      ],
      "execution_count": 40,
      "outputs": [
        {
          "output_type": "stream",
          "text": [
            "<class 'pandas.core.frame.DataFrame'>\n",
            "Int64Index: 450000 entries, 334543 to 193608\n",
            "Data columns (total 24 columns):\n",
            " #   Column  Non-Null Count   Dtype  \n",
            "---  ------  --------------   -----  \n",
            " 0   id      450000 non-null  float64\n",
            " 1   bin_0   450000 non-null  float64\n",
            " 2   bin_1   450000 non-null  float64\n",
            " 3   bin_2   450000 non-null  float64\n",
            " 4   bin_3   450000 non-null  float64\n",
            " 5   bin_4   450000 non-null  float64\n",
            " 6   nom_0   450000 non-null  float64\n",
            " 7   nom_1   450000 non-null  float64\n",
            " 8   nom_2   450000 non-null  float64\n",
            " 9   nom_3   450000 non-null  float64\n",
            " 10  nom_4   450000 non-null  float64\n",
            " 11  nom_5   450000 non-null  float64\n",
            " 12  nom_6   450000 non-null  float64\n",
            " 13  nom_7   450000 non-null  float64\n",
            " 14  nom_8   450000 non-null  float64\n",
            " 15  nom_9   450000 non-null  float64\n",
            " 16  ord_0   450000 non-null  float64\n",
            " 17  ord_1   450000 non-null  float64\n",
            " 18  ord_2   450000 non-null  float64\n",
            " 19  ord_3   450000 non-null  float64\n",
            " 20  ord_4   450000 non-null  float64\n",
            " 21  ord_5   450000 non-null  float64\n",
            " 22  day     450000 non-null  float64\n",
            " 23  month   450000 non-null  float64\n",
            "dtypes: float64(24)\n",
            "memory usage: 85.8 MB\n"
          ],
          "name": "stdout"
        }
      ]
    },
    {
      "cell_type": "code",
      "metadata": {
        "id": "z4hPTPUifoBc",
        "colab_type": "code",
        "outputId": "57978e20-f013-46b1-cac3-6d0cd4502485",
        "colab": {
          "base_uri": "https://localhost:8080/",
          "height": 119
        }
      },
      "source": [
        "print(X_train.shape)\n",
        "print(X_val.shape)\n",
        "print(X_val.columns)"
      ],
      "execution_count": 41,
      "outputs": [
        {
          "output_type": "stream",
          "text": [
            "(450000, 24)\n",
            "(150000, 24)\n",
            "Index(['id', 'bin_0', 'bin_1', 'bin_2', 'bin_3', 'bin_4', 'nom_0', 'nom_1',\n",
            "       'nom_2', 'nom_3', 'nom_4', 'nom_5', 'nom_6', 'nom_7', 'nom_8', 'nom_9',\n",
            "       'ord_0', 'ord_1', 'ord_2', 'ord_3', 'ord_4', 'ord_5', 'day', 'month'],\n",
            "      dtype='object')\n"
          ],
          "name": "stdout"
        }
      ]
    },
    {
      "cell_type": "code",
      "metadata": {
        "id": "I01Yc_lbfoBf",
        "colab_type": "code",
        "outputId": "f30a27b2-fbbd-46c7-cf52-c01d684b5261",
        "colab": {
          "base_uri": "https://localhost:8080/",
          "height": 102
        }
      },
      "source": [
        "print(df_test.shape)\n",
        "print(df_test.columns)"
      ],
      "execution_count": 42,
      "outputs": [
        {
          "output_type": "stream",
          "text": [
            "(400000, 24)\n",
            "Index(['id', 'bin_0', 'bin_1', 'bin_2', 'bin_3', 'bin_4', 'nom_0', 'nom_1',\n",
            "       'nom_2', 'nom_3', 'nom_4', 'nom_5', 'nom_6', 'nom_7', 'nom_8', 'nom_9',\n",
            "       'ord_0', 'ord_1', 'ord_2', 'ord_3', 'ord_4', 'ord_5', 'day', 'month'],\n",
            "      dtype='object')\n"
          ],
          "name": "stdout"
        }
      ]
    },
    {
      "cell_type": "code",
      "metadata": {
        "id": "CMJRpj_DfoBj",
        "colab_type": "code",
        "outputId": "2e196f59-1a0d-4513-b67b-4f9953267956",
        "colab": {
          "base_uri": "https://localhost:8080/",
          "height": 136
        }
      },
      "source": [
        "train= X_train.drop('id',axis=1)\n",
        "val= X_val.drop('id',axis=1)\n",
        "test= df_test_imputed.drop('id',axis=1)\n",
        "print(train.shape)\n",
        "print(val.shape)\n",
        "print(test.shape)\n",
        "print(train.columns)\n",
        "\n"
      ],
      "execution_count": 43,
      "outputs": [
        {
          "output_type": "stream",
          "text": [
            "(450000, 23)\n",
            "(150000, 23)\n",
            "(400000, 23)\n",
            "Index(['bin_0', 'bin_1', 'bin_2', 'bin_3', 'bin_4', 'nom_0', 'nom_1', 'nom_2',\n",
            "       'nom_3', 'nom_4', 'nom_5', 'nom_6', 'nom_7', 'nom_8', 'nom_9', 'ord_0',\n",
            "       'ord_1', 'ord_2', 'ord_3', 'ord_4', 'ord_5', 'day', 'month'],\n",
            "      dtype='object')\n"
          ],
          "name": "stdout"
        }
      ]
    },
    {
      "cell_type": "code",
      "metadata": {
        "id": "erR871R9Q-6K",
        "colab_type": "code",
        "outputId": "d8b518c8-16ba-434b-b861-766123f6e2f2",
        "colab": {
          "base_uri": "https://localhost:8080/",
          "height": 527
        }
      },
      "source": [
        "test.info()"
      ],
      "execution_count": 44,
      "outputs": [
        {
          "output_type": "stream",
          "text": [
            "<class 'pandas.core.frame.DataFrame'>\n",
            "RangeIndex: 400000 entries, 0 to 399999\n",
            "Data columns (total 23 columns):\n",
            " #   Column  Non-Null Count   Dtype  \n",
            "---  ------  --------------   -----  \n",
            " 0   bin_0   400000 non-null  float64\n",
            " 1   bin_1   400000 non-null  float64\n",
            " 2   bin_2   400000 non-null  float64\n",
            " 3   bin_3   400000 non-null  float64\n",
            " 4   bin_4   400000 non-null  float64\n",
            " 5   nom_0   400000 non-null  float64\n",
            " 6   nom_1   400000 non-null  float64\n",
            " 7   nom_2   400000 non-null  float64\n",
            " 8   nom_3   400000 non-null  float64\n",
            " 9   nom_4   400000 non-null  float64\n",
            " 10  nom_5   400000 non-null  float64\n",
            " 11  nom_6   400000 non-null  float64\n",
            " 12  nom_7   400000 non-null  float64\n",
            " 13  nom_8   400000 non-null  float64\n",
            " 14  nom_9   400000 non-null  float64\n",
            " 15  ord_0   400000 non-null  float64\n",
            " 16  ord_1   400000 non-null  float64\n",
            " 17  ord_2   400000 non-null  float64\n",
            " 18  ord_3   400000 non-null  float64\n",
            " 19  ord_4   400000 non-null  float64\n",
            " 20  ord_5   400000 non-null  float64\n",
            " 21  day     400000 non-null  float64\n",
            " 22  month   400000 non-null  float64\n",
            "dtypes: float64(23)\n",
            "memory usage: 70.2 MB\n"
          ],
          "name": "stdout"
        }
      ]
    },
    {
      "cell_type": "markdown",
      "metadata": {
        "id": "EavkCqkiQlIV",
        "colab_type": "text"
      },
      "source": [
        "**Standarizing the features**"
      ]
    },
    {
      "cell_type": "code",
      "metadata": {
        "id": "J2AvX6oPfoBl",
        "colab_type": "code",
        "colab": {}
      },
      "source": [
        "from sklearn.preprocessing import StandardScaler\n",
        "SC= StandardScaler()\n",
        "train_sc = SC.fit_transform(train)\n",
        "val_sc=SC.fit_transform(val)\n",
        "test_sc=SC.fit_transform(test)"
      ],
      "execution_count": 0,
      "outputs": []
    },
    {
      "cell_type": "markdown",
      "metadata": {
        "id": "gJZ2HvtWQsr1",
        "colab_type": "text"
      },
      "source": [
        "**Dealing with Data imbalance**"
      ]
    },
    {
      "cell_type": "code",
      "metadata": {
        "id": "u0oSCi2DP0F9",
        "colab_type": "code",
        "colab": {}
      },
      "source": [
        "weight = float(len(y_train[y_train == 0]))/float(len(y_train[y_train == 1]))\n",
        "w1 = np.array([1]*y_train.shape[0])\n",
        "w1[y_train==1]=weight"
      ],
      "execution_count": 0,
      "outputs": []
    },
    {
      "cell_type": "markdown",
      "metadata": {
        "id": "WJ3GH8hCV4E_",
        "colab_type": "text"
      },
      "source": [
        "**Model Building**"
      ]
    },
    {
      "cell_type": "code",
      "metadata": {
        "id": "1qiGJnPaPcMW",
        "colab_type": "code",
        "colab": {}
      },
      "source": [
        "model = XGBClassifier(objective ='binary:logistic',\n",
        "                      colsample_bytree = 0,\n",
        "                      learning_rate = 0.2,\n",
        "                      max_depth = 15,\n",
        "                      n_estimators = 400,\n",
        "                      scale_pos_weight = 2,\n",
        "                      random_state = 2020,\n",
        "                      subsample = 0.8)"
      ],
      "execution_count": 0,
      "outputs": []
    },
    {
      "cell_type": "code",
      "metadata": {
        "id": "xB2c22ocPpKD",
        "colab_type": "code",
        "outputId": "b374dd46-1f2e-4066-a3cb-40d0079b008d",
        "colab": {
          "base_uri": "https://localhost:8080/",
          "height": 1000
        }
      },
      "source": [
        "model.fit(X_train, y_train, eval_set=[(X_val, y_val)], verbose=True, sample_weight=w1)"
      ],
      "execution_count": 48,
      "outputs": [
        {
          "output_type": "stream",
          "text": [
            "[0]\tvalidation_0-error:0.807167\n",
            "[1]\tvalidation_0-error:0.81216\n",
            "[2]\tvalidation_0-error:0.81298\n",
            "[3]\tvalidation_0-error:0.81318\n",
            "[4]\tvalidation_0-error:0.813513\n",
            "[5]\tvalidation_0-error:0.813587\n",
            "[6]\tvalidation_0-error:0.8136\n",
            "[7]\tvalidation_0-error:0.81346\n",
            "[8]\tvalidation_0-error:0.812127\n",
            "[9]\tvalidation_0-error:0.811193\n",
            "[10]\tvalidation_0-error:0.811767\n",
            "[11]\tvalidation_0-error:0.809593\n",
            "[12]\tvalidation_0-error:0.809347\n",
            "[13]\tvalidation_0-error:0.806933\n",
            "[14]\tvalidation_0-error:0.805533\n",
            "[15]\tvalidation_0-error:0.804833\n",
            "[16]\tvalidation_0-error:0.805287\n",
            "[17]\tvalidation_0-error:0.79248\n",
            "[18]\tvalidation_0-error:0.784353\n",
            "[19]\tvalidation_0-error:0.784747\n",
            "[20]\tvalidation_0-error:0.784953\n",
            "[21]\tvalidation_0-error:0.78524\n",
            "[22]\tvalidation_0-error:0.785467\n",
            "[23]\tvalidation_0-error:0.785567\n",
            "[24]\tvalidation_0-error:0.783067\n",
            "[25]\tvalidation_0-error:0.776627\n",
            "[26]\tvalidation_0-error:0.77504\n",
            "[27]\tvalidation_0-error:0.773353\n",
            "[28]\tvalidation_0-error:0.765933\n",
            "[29]\tvalidation_0-error:0.761753\n",
            "[30]\tvalidation_0-error:0.75572\n",
            "[31]\tvalidation_0-error:0.75262\n",
            "[32]\tvalidation_0-error:0.75078\n",
            "[33]\tvalidation_0-error:0.74744\n",
            "[34]\tvalidation_0-error:0.747113\n",
            "[35]\tvalidation_0-error:0.743907\n",
            "[36]\tvalidation_0-error:0.733993\n",
            "[37]\tvalidation_0-error:0.732113\n",
            "[38]\tvalidation_0-error:0.7291\n",
            "[39]\tvalidation_0-error:0.719067\n",
            "[40]\tvalidation_0-error:0.71666\n",
            "[41]\tvalidation_0-error:0.713393\n",
            "[42]\tvalidation_0-error:0.7114\n",
            "[43]\tvalidation_0-error:0.710673\n",
            "[44]\tvalidation_0-error:0.708733\n",
            "[45]\tvalidation_0-error:0.706407\n",
            "[46]\tvalidation_0-error:0.705787\n",
            "[47]\tvalidation_0-error:0.705733\n",
            "[48]\tvalidation_0-error:0.70448\n",
            "[49]\tvalidation_0-error:0.697993\n",
            "[50]\tvalidation_0-error:0.69272\n",
            "[51]\tvalidation_0-error:0.69056\n",
            "[52]\tvalidation_0-error:0.6906\n",
            "[53]\tvalidation_0-error:0.683487\n",
            "[54]\tvalidation_0-error:0.660447\n",
            "[55]\tvalidation_0-error:0.66048\n",
            "[56]\tvalidation_0-error:0.659327\n",
            "[57]\tvalidation_0-error:0.65496\n",
            "[58]\tvalidation_0-error:0.647207\n",
            "[59]\tvalidation_0-error:0.645047\n",
            "[60]\tvalidation_0-error:0.644087\n",
            "[61]\tvalidation_0-error:0.644013\n",
            "[62]\tvalidation_0-error:0.63796\n",
            "[63]\tvalidation_0-error:0.637927\n",
            "[64]\tvalidation_0-error:0.637787\n",
            "[65]\tvalidation_0-error:0.630933\n",
            "[66]\tvalidation_0-error:0.626147\n",
            "[67]\tvalidation_0-error:0.626227\n",
            "[68]\tvalidation_0-error:0.621633\n",
            "[69]\tvalidation_0-error:0.6217\n",
            "[70]\tvalidation_0-error:0.619833\n",
            "[71]\tvalidation_0-error:0.617913\n",
            "[72]\tvalidation_0-error:0.61604\n",
            "[73]\tvalidation_0-error:0.613307\n",
            "[74]\tvalidation_0-error:0.612267\n",
            "[75]\tvalidation_0-error:0.611207\n",
            "[76]\tvalidation_0-error:0.610793\n",
            "[77]\tvalidation_0-error:0.606647\n",
            "[78]\tvalidation_0-error:0.6018\n",
            "[79]\tvalidation_0-error:0.601607\n",
            "[80]\tvalidation_0-error:0.601193\n",
            "[81]\tvalidation_0-error:0.593267\n",
            "[82]\tvalidation_0-error:0.593407\n",
            "[83]\tvalidation_0-error:0.593673\n",
            "[84]\tvalidation_0-error:0.593627\n",
            "[85]\tvalidation_0-error:0.589027\n",
            "[86]\tvalidation_0-error:0.588133\n",
            "[87]\tvalidation_0-error:0.58722\n",
            "[88]\tvalidation_0-error:0.585393\n",
            "[89]\tvalidation_0-error:0.584693\n",
            "[90]\tvalidation_0-error:0.584487\n",
            "[91]\tvalidation_0-error:0.58462\n",
            "[92]\tvalidation_0-error:0.584113\n",
            "[93]\tvalidation_0-error:0.5826\n",
            "[94]\tvalidation_0-error:0.58084\n",
            "[95]\tvalidation_0-error:0.580127\n",
            "[96]\tvalidation_0-error:0.577507\n",
            "[97]\tvalidation_0-error:0.571093\n",
            "[98]\tvalidation_0-error:0.570153\n",
            "[99]\tvalidation_0-error:0.569107\n",
            "[100]\tvalidation_0-error:0.567733\n",
            "[101]\tvalidation_0-error:0.567047\n",
            "[102]\tvalidation_0-error:0.56572\n",
            "[103]\tvalidation_0-error:0.562433\n",
            "[104]\tvalidation_0-error:0.561967\n",
            "[105]\tvalidation_0-error:0.5605\n",
            "[106]\tvalidation_0-error:0.558307\n",
            "[107]\tvalidation_0-error:0.55838\n",
            "[108]\tvalidation_0-error:0.557833\n",
            "[109]\tvalidation_0-error:0.55578\n",
            "[110]\tvalidation_0-error:0.5536\n",
            "[111]\tvalidation_0-error:0.549067\n",
            "[112]\tvalidation_0-error:0.54832\n",
            "[113]\tvalidation_0-error:0.547373\n",
            "[114]\tvalidation_0-error:0.54704\n",
            "[115]\tvalidation_0-error:0.53714\n",
            "[116]\tvalidation_0-error:0.529233\n",
            "[117]\tvalidation_0-error:0.52876\n",
            "[118]\tvalidation_0-error:0.5282\n",
            "[119]\tvalidation_0-error:0.527207\n",
            "[120]\tvalidation_0-error:0.52064\n",
            "[121]\tvalidation_0-error:0.517913\n",
            "[122]\tvalidation_0-error:0.51324\n",
            "[123]\tvalidation_0-error:0.512913\n",
            "[124]\tvalidation_0-error:0.51146\n",
            "[125]\tvalidation_0-error:0.51044\n",
            "[126]\tvalidation_0-error:0.510187\n",
            "[127]\tvalidation_0-error:0.5092\n",
            "[128]\tvalidation_0-error:0.508573\n",
            "[129]\tvalidation_0-error:0.50546\n",
            "[130]\tvalidation_0-error:0.50486\n",
            "[131]\tvalidation_0-error:0.505013\n",
            "[132]\tvalidation_0-error:0.504787\n",
            "[133]\tvalidation_0-error:0.504487\n",
            "[134]\tvalidation_0-error:0.50438\n",
            "[135]\tvalidation_0-error:0.503847\n",
            "[136]\tvalidation_0-error:0.50358\n",
            "[137]\tvalidation_0-error:0.503813\n",
            "[138]\tvalidation_0-error:0.5034\n",
            "[139]\tvalidation_0-error:0.501387\n",
            "[140]\tvalidation_0-error:0.500553\n",
            "[141]\tvalidation_0-error:0.497867\n",
            "[142]\tvalidation_0-error:0.497753\n",
            "[143]\tvalidation_0-error:0.497387\n",
            "[144]\tvalidation_0-error:0.4971\n",
            "[145]\tvalidation_0-error:0.49666\n",
            "[146]\tvalidation_0-error:0.496453\n",
            "[147]\tvalidation_0-error:0.495987\n",
            "[148]\tvalidation_0-error:0.495787\n",
            "[149]\tvalidation_0-error:0.492107\n",
            "[150]\tvalidation_0-error:0.49176\n",
            "[151]\tvalidation_0-error:0.489667\n",
            "[152]\tvalidation_0-error:0.489647\n",
            "[153]\tvalidation_0-error:0.489173\n",
            "[154]\tvalidation_0-error:0.48826\n",
            "[155]\tvalidation_0-error:0.488067\n",
            "[156]\tvalidation_0-error:0.486807\n",
            "[157]\tvalidation_0-error:0.485707\n",
            "[158]\tvalidation_0-error:0.484893\n",
            "[159]\tvalidation_0-error:0.48498\n",
            "[160]\tvalidation_0-error:0.484553\n",
            "[161]\tvalidation_0-error:0.484593\n",
            "[162]\tvalidation_0-error:0.48442\n",
            "[163]\tvalidation_0-error:0.48428\n",
            "[164]\tvalidation_0-error:0.484153\n",
            "[165]\tvalidation_0-error:0.48386\n",
            "[166]\tvalidation_0-error:0.482833\n",
            "[167]\tvalidation_0-error:0.48244\n",
            "[168]\tvalidation_0-error:0.481987\n",
            "[169]\tvalidation_0-error:0.481267\n",
            "[170]\tvalidation_0-error:0.48144\n",
            "[171]\tvalidation_0-error:0.479853\n",
            "[172]\tvalidation_0-error:0.479973\n",
            "[173]\tvalidation_0-error:0.479873\n",
            "[174]\tvalidation_0-error:0.479673\n",
            "[175]\tvalidation_0-error:0.478673\n",
            "[176]\tvalidation_0-error:0.478253\n",
            "[177]\tvalidation_0-error:0.47756\n",
            "[178]\tvalidation_0-error:0.477567\n",
            "[179]\tvalidation_0-error:0.477253\n",
            "[180]\tvalidation_0-error:0.47694\n",
            "[181]\tvalidation_0-error:0.476093\n",
            "[182]\tvalidation_0-error:0.47566\n",
            "[183]\tvalidation_0-error:0.474727\n",
            "[184]\tvalidation_0-error:0.474\n",
            "[185]\tvalidation_0-error:0.4741\n",
            "[186]\tvalidation_0-error:0.47426\n",
            "[187]\tvalidation_0-error:0.473667\n",
            "[188]\tvalidation_0-error:0.47316\n",
            "[189]\tvalidation_0-error:0.472907\n",
            "[190]\tvalidation_0-error:0.472133\n",
            "[191]\tvalidation_0-error:0.471247\n",
            "[192]\tvalidation_0-error:0.471307\n",
            "[193]\tvalidation_0-error:0.471347\n",
            "[194]\tvalidation_0-error:0.47124\n",
            "[195]\tvalidation_0-error:0.46904\n",
            "[196]\tvalidation_0-error:0.468767\n",
            "[197]\tvalidation_0-error:0.46862\n",
            "[198]\tvalidation_0-error:0.468787\n",
            "[199]\tvalidation_0-error:0.468187\n",
            "[200]\tvalidation_0-error:0.468007\n",
            "[201]\tvalidation_0-error:0.468167\n",
            "[202]\tvalidation_0-error:0.467947\n",
            "[203]\tvalidation_0-error:0.466833\n",
            "[204]\tvalidation_0-error:0.46616\n",
            "[205]\tvalidation_0-error:0.46594\n",
            "[206]\tvalidation_0-error:0.465933\n",
            "[207]\tvalidation_0-error:0.46566\n",
            "[208]\tvalidation_0-error:0.465207\n",
            "[209]\tvalidation_0-error:0.464953\n",
            "[210]\tvalidation_0-error:0.46492\n",
            "[211]\tvalidation_0-error:0.464787\n",
            "[212]\tvalidation_0-error:0.464787\n",
            "[213]\tvalidation_0-error:0.464007\n",
            "[214]\tvalidation_0-error:0.464113\n",
            "[215]\tvalidation_0-error:0.463353\n",
            "[216]\tvalidation_0-error:0.463413\n",
            "[217]\tvalidation_0-error:0.462273\n",
            "[218]\tvalidation_0-error:0.46206\n",
            "[219]\tvalidation_0-error:0.46216\n",
            "[220]\tvalidation_0-error:0.46222\n",
            "[221]\tvalidation_0-error:0.462013\n",
            "[222]\tvalidation_0-error:0.4608\n",
            "[223]\tvalidation_0-error:0.460613\n",
            "[224]\tvalidation_0-error:0.4604\n",
            "[225]\tvalidation_0-error:0.4602\n",
            "[226]\tvalidation_0-error:0.460187\n",
            "[227]\tvalidation_0-error:0.460313\n",
            "[228]\tvalidation_0-error:0.459947\n",
            "[229]\tvalidation_0-error:0.457553\n",
            "[230]\tvalidation_0-error:0.457253\n",
            "[231]\tvalidation_0-error:0.457353\n",
            "[232]\tvalidation_0-error:0.456653\n",
            "[233]\tvalidation_0-error:0.456667\n",
            "[234]\tvalidation_0-error:0.456633\n",
            "[235]\tvalidation_0-error:0.45672\n",
            "[236]\tvalidation_0-error:0.456873\n",
            "[237]\tvalidation_0-error:0.45708\n",
            "[238]\tvalidation_0-error:0.456647\n",
            "[239]\tvalidation_0-error:0.45562\n",
            "[240]\tvalidation_0-error:0.45492\n",
            "[241]\tvalidation_0-error:0.454393\n",
            "[242]\tvalidation_0-error:0.454187\n",
            "[243]\tvalidation_0-error:0.453913\n",
            "[244]\tvalidation_0-error:0.453693\n",
            "[245]\tvalidation_0-error:0.453587\n",
            "[246]\tvalidation_0-error:0.453293\n",
            "[247]\tvalidation_0-error:0.453107\n",
            "[248]\tvalidation_0-error:0.452953\n",
            "[249]\tvalidation_0-error:0.453073\n",
            "[250]\tvalidation_0-error:0.4528\n",
            "[251]\tvalidation_0-error:0.452767\n",
            "[252]\tvalidation_0-error:0.452767\n",
            "[253]\tvalidation_0-error:0.452653\n",
            "[254]\tvalidation_0-error:0.451853\n",
            "[255]\tvalidation_0-error:0.45196\n",
            "[256]\tvalidation_0-error:0.45184\n",
            "[257]\tvalidation_0-error:0.451767\n",
            "[258]\tvalidation_0-error:0.452007\n",
            "[259]\tvalidation_0-error:0.451647\n",
            "[260]\tvalidation_0-error:0.45164\n",
            "[261]\tvalidation_0-error:0.450927\n",
            "[262]\tvalidation_0-error:0.45078\n",
            "[263]\tvalidation_0-error:0.450207\n",
            "[264]\tvalidation_0-error:0.450487\n",
            "[265]\tvalidation_0-error:0.450327\n",
            "[266]\tvalidation_0-error:0.450227\n",
            "[267]\tvalidation_0-error:0.450327\n",
            "[268]\tvalidation_0-error:0.450333\n",
            "[269]\tvalidation_0-error:0.4503\n",
            "[270]\tvalidation_0-error:0.450007\n",
            "[271]\tvalidation_0-error:0.44986\n",
            "[272]\tvalidation_0-error:0.449953\n",
            "[273]\tvalidation_0-error:0.45\n",
            "[274]\tvalidation_0-error:0.44932\n",
            "[275]\tvalidation_0-error:0.44854\n",
            "[276]\tvalidation_0-error:0.448387\n",
            "[277]\tvalidation_0-error:0.44852\n",
            "[278]\tvalidation_0-error:0.447987\n",
            "[279]\tvalidation_0-error:0.4478\n",
            "[280]\tvalidation_0-error:0.447847\n",
            "[281]\tvalidation_0-error:0.447933\n",
            "[282]\tvalidation_0-error:0.447833\n",
            "[283]\tvalidation_0-error:0.447913\n",
            "[284]\tvalidation_0-error:0.447553\n",
            "[285]\tvalidation_0-error:0.446573\n",
            "[286]\tvalidation_0-error:0.44682\n",
            "[287]\tvalidation_0-error:0.446347\n",
            "[288]\tvalidation_0-error:0.446353\n",
            "[289]\tvalidation_0-error:0.444593\n",
            "[290]\tvalidation_0-error:0.444533\n",
            "[291]\tvalidation_0-error:0.444573\n",
            "[292]\tvalidation_0-error:0.444167\n",
            "[293]\tvalidation_0-error:0.443793\n",
            "[294]\tvalidation_0-error:0.44336\n",
            "[295]\tvalidation_0-error:0.443553\n",
            "[296]\tvalidation_0-error:0.44304\n",
            "[297]\tvalidation_0-error:0.44248\n",
            "[298]\tvalidation_0-error:0.4425\n",
            "[299]\tvalidation_0-error:0.442407\n",
            "[300]\tvalidation_0-error:0.442233\n",
            "[301]\tvalidation_0-error:0.44222\n",
            "[302]\tvalidation_0-error:0.442253\n",
            "[303]\tvalidation_0-error:0.441773\n",
            "[304]\tvalidation_0-error:0.441647\n",
            "[305]\tvalidation_0-error:0.441493\n",
            "[306]\tvalidation_0-error:0.44158\n",
            "[307]\tvalidation_0-error:0.441393\n",
            "[308]\tvalidation_0-error:0.441227\n",
            "[309]\tvalidation_0-error:0.44112\n",
            "[310]\tvalidation_0-error:0.440927\n",
            "[311]\tvalidation_0-error:0.441033\n",
            "[312]\tvalidation_0-error:0.441213\n",
            "[313]\tvalidation_0-error:0.441073\n",
            "[314]\tvalidation_0-error:0.441047\n",
            "[315]\tvalidation_0-error:0.440987\n",
            "[316]\tvalidation_0-error:0.440827\n",
            "[317]\tvalidation_0-error:0.440947\n",
            "[318]\tvalidation_0-error:0.440847\n",
            "[319]\tvalidation_0-error:0.440647\n",
            "[320]\tvalidation_0-error:0.440767\n",
            "[321]\tvalidation_0-error:0.440567\n",
            "[322]\tvalidation_0-error:0.440607\n",
            "[323]\tvalidation_0-error:0.44066\n",
            "[324]\tvalidation_0-error:0.44074\n",
            "[325]\tvalidation_0-error:0.440667\n",
            "[326]\tvalidation_0-error:0.440467\n",
            "[327]\tvalidation_0-error:0.440167\n",
            "[328]\tvalidation_0-error:0.440153\n",
            "[329]\tvalidation_0-error:0.44008\n",
            "[330]\tvalidation_0-error:0.43998\n",
            "[331]\tvalidation_0-error:0.439553\n",
            "[332]\tvalidation_0-error:0.439547\n",
            "[333]\tvalidation_0-error:0.43904\n",
            "[334]\tvalidation_0-error:0.43734\n",
            "[335]\tvalidation_0-error:0.43738\n",
            "[336]\tvalidation_0-error:0.437533\n",
            "[337]\tvalidation_0-error:0.437693\n",
            "[338]\tvalidation_0-error:0.437327\n",
            "[339]\tvalidation_0-error:0.4371\n",
            "[340]\tvalidation_0-error:0.43712\n",
            "[341]\tvalidation_0-error:0.436813\n",
            "[342]\tvalidation_0-error:0.436753\n",
            "[343]\tvalidation_0-error:0.436273\n",
            "[344]\tvalidation_0-error:0.436093\n",
            "[345]\tvalidation_0-error:0.436187\n",
            "[346]\tvalidation_0-error:0.43614\n",
            "[347]\tvalidation_0-error:0.435727\n",
            "[348]\tvalidation_0-error:0.43568\n",
            "[349]\tvalidation_0-error:0.435713\n",
            "[350]\tvalidation_0-error:0.435753\n",
            "[351]\tvalidation_0-error:0.435793\n",
            "[352]\tvalidation_0-error:0.43562\n",
            "[353]\tvalidation_0-error:0.435373\n",
            "[354]\tvalidation_0-error:0.435353\n",
            "[355]\tvalidation_0-error:0.435293\n",
            "[356]\tvalidation_0-error:0.435567\n",
            "[357]\tvalidation_0-error:0.43552\n",
            "[358]\tvalidation_0-error:0.435433\n",
            "[359]\tvalidation_0-error:0.434967\n",
            "[360]\tvalidation_0-error:0.435113\n",
            "[361]\tvalidation_0-error:0.435073\n",
            "[362]\tvalidation_0-error:0.434827\n",
            "[363]\tvalidation_0-error:0.4345\n",
            "[364]\tvalidation_0-error:0.434473\n",
            "[365]\tvalidation_0-error:0.434207\n",
            "[366]\tvalidation_0-error:0.434127\n",
            "[367]\tvalidation_0-error:0.434033\n",
            "[368]\tvalidation_0-error:0.43398\n",
            "[369]\tvalidation_0-error:0.434027\n",
            "[370]\tvalidation_0-error:0.433847\n",
            "[371]\tvalidation_0-error:0.433167\n",
            "[372]\tvalidation_0-error:0.433107\n",
            "[373]\tvalidation_0-error:0.432973\n",
            "[374]\tvalidation_0-error:0.432847\n",
            "[375]\tvalidation_0-error:0.432633\n",
            "[376]\tvalidation_0-error:0.432673\n",
            "[377]\tvalidation_0-error:0.432627\n",
            "[378]\tvalidation_0-error:0.43234\n",
            "[379]\tvalidation_0-error:0.432073\n",
            "[380]\tvalidation_0-error:0.432173\n",
            "[381]\tvalidation_0-error:0.432093\n",
            "[382]\tvalidation_0-error:0.432067\n",
            "[383]\tvalidation_0-error:0.432293\n",
            "[384]\tvalidation_0-error:0.43196\n",
            "[385]\tvalidation_0-error:0.431873\n",
            "[386]\tvalidation_0-error:0.431667\n",
            "[387]\tvalidation_0-error:0.431273\n",
            "[388]\tvalidation_0-error:0.43118\n",
            "[389]\tvalidation_0-error:0.431113\n",
            "[390]\tvalidation_0-error:0.431047\n",
            "[391]\tvalidation_0-error:0.430573\n",
            "[392]\tvalidation_0-error:0.430667\n",
            "[393]\tvalidation_0-error:0.4306\n",
            "[394]\tvalidation_0-error:0.43056\n",
            "[395]\tvalidation_0-error:0.43054\n",
            "[396]\tvalidation_0-error:0.430427\n",
            "[397]\tvalidation_0-error:0.43026\n",
            "[398]\tvalidation_0-error:0.430033\n",
            "[399]\tvalidation_0-error:0.429947\n"
          ],
          "name": "stdout"
        },
        {
          "output_type": "execute_result",
          "data": {
            "text/plain": [
              "XGBClassifier(base_score=0.5, booster='gbtree', colsample_bylevel=1,\n",
              "              colsample_bynode=1, colsample_bytree=0, gamma=0,\n",
              "              learning_rate=0.2, max_delta_step=0, max_depth=15,\n",
              "              min_child_weight=1, missing=None, n_estimators=400, n_jobs=1,\n",
              "              nthread=None, objective='binary:logistic', random_state=2020,\n",
              "              reg_alpha=0, reg_lambda=1, scale_pos_weight=2, seed=None,\n",
              "              silent=None, subsample=0.8, verbosity=1)"
            ]
          },
          "metadata": {
            "tags": []
          },
          "execution_count": 48
        }
      ]
    },
    {
      "cell_type": "code",
      "metadata": {
        "id": "ZYkXa6z8R62H",
        "colab_type": "code",
        "colab": {}
      },
      "source": [
        "preds_val = model.predict_proba(X_val)[:,1]"
      ],
      "execution_count": 0,
      "outputs": []
    },
    {
      "cell_type": "code",
      "metadata": {
        "id": "4WMiuW6zR9vF",
        "colab_type": "code",
        "outputId": "7c7e8251-92a4-41ec-b169-2177a6c2938d",
        "colab": {
          "base_uri": "https://localhost:8080/",
          "height": 34
        }
      },
      "source": [
        "score = metrics.roc_auc_score(y_val ,preds_val)\n",
        "print(\"score: %f\" % (score))"
      ],
      "execution_count": 50,
      "outputs": [
        {
          "output_type": "stream",
          "text": [
            "score: 0.780767\n"
          ],
          "name": "stdout"
        }
      ]
    },
    {
      "cell_type": "code",
      "metadata": {
        "id": "2aHkZ-E9SMB7",
        "colab_type": "code",
        "outputId": "26a1e5ce-37da-4d1c-e3a2-1ab2fc5867a0",
        "colab": {
          "base_uri": "https://localhost:8080/",
          "height": 302
        }
      },
      "source": [
        " metrics.plot_confusion_matrix(model,\n",
        "                              X_val, y_val,\n",
        "                              normalize=None,\n",
        "                              values_format='d')"
      ],
      "execution_count": 51,
      "outputs": [
        {
          "output_type": "execute_result",
          "data": {
            "text/plain": [
              "<sklearn.metrics._plot.confusion_matrix.ConfusionMatrixDisplay at 0x7f0846a10908>"
            ]
          },
          "metadata": {
            "tags": []
          },
          "execution_count": 51
        },
        {
          "output_type": "display_data",
          "data": {
            "image/png": "[encoded data removed]",
            "text/plain": [
              "<Figure size 432x288 with 2 Axes>"
            ]
          },
          "metadata": {
            "tags": [],
            "needs_background": "light"
          }
        }
      ]
    },
    {
      "cell_type": "code",
      "metadata": {
        "id": "quiYJSk7TGr3",
        "colab_type": "code",
        "outputId": "5354d6ef-0ca7-4b2b-c7cb-f0031aa25dc7",
        "colab": {
          "base_uri": "https://localhost:8080/",
          "height": 544
        }
      },
      "source": [
        "df_test.info()"
      ],
      "execution_count": 52,
      "outputs": [
        {
          "output_type": "stream",
          "text": [
            "<class 'pandas.core.frame.DataFrame'>\n",
            "RangeIndex: 400000 entries, 0 to 399999\n",
            "Data columns (total 24 columns):\n",
            " #   Column  Non-Null Count   Dtype  \n",
            "---  ------  --------------   -----  \n",
            " 0   id      400000 non-null  int64  \n",
            " 1   bin_0   388099 non-null  float64\n",
            " 2   bin_1   387962 non-null  float64\n",
            " 3   bin_2   388028 non-null  float64\n",
            " 4   bin_3   400000 non-null  object \n",
            " 5   bin_4   400000 non-null  object \n",
            " 6   nom_0   400000 non-null  object \n",
            " 7   nom_1   400000 non-null  object \n",
            " 8   nom_2   400000 non-null  object \n",
            " 9   nom_3   400000 non-null  object \n",
            " 10  nom_4   400000 non-null  object \n",
            " 11  nom_5   400000 non-null  object \n",
            " 12  nom_6   400000 non-null  object \n",
            " 13  nom_7   400000 non-null  object \n",
            " 14  nom_8   400000 non-null  object \n",
            " 15  nom_9   400000 non-null  object \n",
            " 16  ord_0   388107 non-null  float64\n",
            " 17  ord_1   387833 non-null  object \n",
            " 18  ord_2   387895 non-null  object \n",
            " 19  ord_3   387947 non-null  object \n",
            " 20  ord_4   388067 non-null  object \n",
            " 21  ord_5   387953 non-null  object \n",
            " 22  day     387975 non-null  float64\n",
            " 23  month   388016 non-null  float64\n",
            "dtypes: float64(6), int64(1), object(17)\n",
            "memory usage: 73.2+ MB\n"
          ],
          "name": "stdout"
        }
      ]
    },
    {
      "cell_type": "code",
      "metadata": {
        "id": "VZbrpsYkSQVs",
        "colab_type": "code",
        "colab": {}
      },
      "source": [
        "y_test = model.predict_proba(df_test_encoded)[:,1]"
      ],
      "execution_count": 0,
      "outputs": []
    },
    {
      "cell_type": "code",
      "metadata": {
        "id": "_83J7CT0WDtj",
        "colab_type": "code",
        "outputId": "45fe61d8-70f6-422b-81a8-393cf39a06aa",
        "colab": {
          "base_uri": "https://localhost:8080/",
          "height": 34
        }
      },
      "source": [
        "y_test.shape"
      ],
      "execution_count": 54,
      "outputs": [
        {
          "output_type": "execute_result",
          "data": {
            "text/plain": [
              "(400000,)"
            ]
          },
          "metadata": {
            "tags": []
          },
          "execution_count": 54
        }
      ]
    },
    {
      "cell_type": "code",
      "metadata": {
        "id": "UMkKrrm5U2U5",
        "colab_type": "code",
        "colab": {}
      },
      "source": [
        "samp_subm = pd.read_csv('/content/gdrive/My Drive/Kaggle/sample_submission.csv', index_col=0)"
      ],
      "execution_count": 0,
      "outputs": []
    },
    {
      "cell_type": "code",
      "metadata": {
        "id": "Ck3CTUaaUE7g",
        "colab_type": "code",
        "colab": {}
      },
      "source": [
        "num = samp_subm.index\n",
        "output = pd.DataFrame({'id': num,\n",
        "                       'target': y_test})"
      ],
      "execution_count": 0,
      "outputs": []
    },
    {
      "cell_type": "code",
      "metadata": {
        "id": "e6Uj2DFCWiYn",
        "colab_type": "code",
        "outputId": "7c311516-3d57-4721-f6da-df3075b7ca1f",
        "colab": {
          "base_uri": "https://localhost:8080/",
          "height": 170
        }
      },
      "source": [
        "output.info()"
      ],
      "execution_count": 57,
      "outputs": [
        {
          "output_type": "stream",
          "text": [
            "<class 'pandas.core.frame.DataFrame'>\n",
            "RangeIndex: 400000 entries, 0 to 399999\n",
            "Data columns (total 2 columns):\n",
            " #   Column  Non-Null Count   Dtype  \n",
            "---  ------  --------------   -----  \n",
            " 0   id      400000 non-null  int64  \n",
            " 1   target  400000 non-null  float32\n",
            "dtypes: float32(1), int64(1)\n",
            "memory usage: 4.6 MB\n"
          ],
          "name": "stdout"
        }
      ]
    },
    {
      "cell_type": "code",
      "metadata": {
        "id": "x6iBcMdFXc9k",
        "colab_type": "code",
        "colab": {}
      },
      "source": [
        "output.to_csv('submission.csv', index=False)"
      ],
      "execution_count": 0,
      "outputs": []
    }
  ]
}